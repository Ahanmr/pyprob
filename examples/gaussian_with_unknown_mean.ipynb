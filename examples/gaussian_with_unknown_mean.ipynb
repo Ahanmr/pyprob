{
 "cells": [
  {
   "cell_type": "code",
   "execution_count": 1,
   "metadata": {
    "collapsed": true
   },
   "outputs": [],
   "source": [
    "import pyprob\n",
    "from pyprob.distributions import Normal\n",
    "\n",
    "import numpy as np\n",
    "import math\n",
    "import matplotlib.pyplot as plt\n",
    "%matplotlib inline"
   ]
  },
  {
   "cell_type": "markdown",
   "metadata": {},
   "source": [
    "## Define a query as a regular Python function"
   ]
  },
  {
   "cell_type": "code",
   "execution_count": 2,
   "metadata": {},
   "outputs": [],
   "source": [
    "def gaussian(obs, sigma=math.sqrt(2), mu0=1, sigma0=math.sqrt(5)):\n",
    "    mu = pyprob.sample(Normal(mu0, sigma0))\n",
    "    mu = pyprob.sample(Normal(mu0, sigma0))\n",
    "    likelihood = Normal(mu, sigma)\n",
    "    for o in obs:\n",
    "        pyprob.observe(likelihood, o)\n",
    "    return mu"
   ]
  },
  {
   "cell_type": "code",
   "execution_count": 3,
   "metadata": {},
   "outputs": [
    {
     "data": {
      "text/plain": [
       "1.9868235044959004"
      ]
     },
     "execution_count": 3,
     "metadata": {},
     "output_type": "execute_result"
    }
   ],
   "source": [
    "gaussian([], 0.01, 2, 0.01)"
   ]
  },
  {
   "cell_type": "markdown",
   "metadata": {},
   "source": [
    "## Construct inference from query"
   ]
  },
  {
   "cell_type": "code",
   "execution_count": 4,
   "metadata": {
    "collapsed": true
   },
   "outputs": [],
   "source": [
    "model = pyprob.Model(gaussian, default_observes=[1,2])"
   ]
  },
  {
   "cell_type": "markdown",
   "metadata": {},
   "source": [
    "A lazy prior_sample generator:"
   ]
  },
  {
   "cell_type": "code",
   "execution_count": 5,
   "metadata": {},
   "outputs": [
    {
     "data": {
      "text/plain": [
       "generator"
      ]
     },
     "execution_count": 5,
     "metadata": {},
     "output_type": "execute_result"
    }
   ],
   "source": [
    "s = model.prior_sample([7,9])\n",
    "type(s)"
   ]
  },
  {
   "cell_type": "code",
   "execution_count": 6,
   "metadata": {},
   "outputs": [
    {
     "data": {
      "text/plain": [
       "-0.24426186065729838"
      ]
     },
     "execution_count": 6,
     "metadata": {},
     "output_type": "execute_result"
    }
   ],
   "source": [
    "next(s)"
   ]
  },
  {
   "cell_type": "markdown",
   "metadata": {},
   "source": [
    "A collection of samples from prior:"
   ]
  },
  {
   "cell_type": "code",
   "execution_count": 7,
   "metadata": {},
   "outputs": [
    {
     "data": {
      "text/plain": [
       "[-1.890051212575298,\n",
       " 1.250515073850368,\n",
       " 1.2974750909146664,\n",
       " -1.8346522374558316,\n",
       " 4.389061678628975,\n",
       " -0.8876385331675536,\n",
       " 4.3562037690733355,\n",
       " 0.5256650546494073,\n",
       " -0.6068757277409431,\n",
       " 0.1565840415635834]"
      ]
     },
     "execution_count": 7,
     "metadata": {},
     "output_type": "execute_result"
    }
   ],
   "source": [
    "model.prior_samples(10, [])"
   ]
  },
  {
   "cell_type": "markdown",
   "metadata": {},
   "source": [
    "Inspect traces from prior:"
   ]
  },
  {
   "cell_type": "code",
   "execution_count": 8,
   "metadata": {},
   "outputs": [
    {
     "data": {
      "text/plain": [
       "Trace(length:2, samples:[Sample(address_suffixed:12/gaussian.mu_Normal, distribution:Normal(prior_mean:1, prior_std:2.23606797749979, proposal_mean:None, proposal_std:None), value:[2.5708577632904053]), Sample(address_suffixed:28/gaussian.mu_Normal, distribution:Normal(prior_mean:1, prior_std:2.23606797749979, proposal_mean:None, proposal_std:None), value:[2.2682945728302])], observes_tensor:[[8.0], [9.0]], result:2.2682946592826836, log_p:-22.07309997373165)"
      ]
     },
     "execution_count": 8,
     "metadata": {},
     "output_type": "execute_result"
    }
   ],
   "source": [
    "s = model.prior_trace([8, 9])\n",
    "next(s)"
   ]
  },
  {
   "cell_type": "code",
   "execution_count": 9,
   "metadata": {},
   "outputs": [
    {
     "data": {
      "text/plain": [
       "[Trace(length:2, samples:[Sample(address_suffixed:12/gaussian.mu_Normal, distribution:Normal(prior_mean:1, prior_std:2.23606797749979, proposal_mean:None, proposal_std:None), value:[-1.8153499364852905]), Sample(address_suffixed:28/gaussian.mu_Normal, distribution:Normal(prior_mean:1, prior_std:2.23606797749979, proposal_mean:None, proposal_std:None), value:[1.817345142364502])], observes_tensor:[[8.0], [9.0]], result:1.8173451321081453, log_p:-24.98496228864864),\n",
       " Trace(length:2, samples:[Sample(address_suffixed:12/gaussian.mu_Normal, distribution:Normal(prior_mean:1, prior_std:2.23606797749979, proposal_mean:None, proposal_std:None), value:[3.4318854808807373]), Sample(address_suffixed:28/gaussian.mu_Normal, distribution:Normal(prior_mean:1, prior_std:2.23606797749979, proposal_mean:None, proposal_std:None), value:[0.7404677867889404])], observes_tensor:[[8.0], [9.0]], result:0.7404678134157829, log_p:-32.761194124287506),\n",
       " Trace(length:2, samples:[Sample(address_suffixed:12/gaussian.mu_Normal, distribution:Normal(prior_mean:1, prior_std:2.23606797749979, proposal_mean:None, proposal_std:None), value:[3.669665575027466]), Sample(address_suffixed:28/gaussian.mu_Normal, distribution:Normal(prior_mean:1, prior_std:2.23606797749979, proposal_mean:None, proposal_std:None), value:[5.193111896514893])], observes_tensor:[[8.0], [9.0]], result:5.193111770292707, log_p:-8.123779128857606)]"
      ]
     },
     "execution_count": 9,
     "metadata": {},
     "output_type": "execute_result"
    }
   ],
   "source": [
    "model.prior_traces(3, [8, 9])"
   ]
  },
  {
   "cell_type": "markdown",
   "metadata": {},
   "source": [
    "## Inference with importance sampling"
   ]
  },
  {
   "cell_type": "code",
   "execution_count": 10,
   "metadata": {},
   "outputs": [
    {
     "name": "stdout",
     "output_type": "stream",
     "text": [
      "CPU times: user 2.36 s, sys: 16 ms, total: 2.38 s\n",
      "Wall time: 2.37 s\n"
     ]
    }
   ],
   "source": [
    "%time empirical_posterior = model.posterior_samples(10000, [8, 9])"
   ]
  },
  {
   "cell_type": "code",
   "execution_count": 11,
   "metadata": {},
   "outputs": [],
   "source": [
    "def true_posterior(x):\n",
    "    p = Normal(7.25, math.sqrt(1/1.2))\n",
    "    return math.exp(p.log_pdf(x))"
   ]
  },
  {
   "cell_type": "code",
   "execution_count": 12,
   "metadata": {},
   "outputs": [
    {
     "data": {
      "image/png": "[encoded data removed]",
      "text/plain": [
       "<matplotlib.figure.Figure at 0x7f675cd8f550>"
      ]
     },
     "metadata": {},
     "output_type": "display_data"
    }
   ],
   "source": [
    "n, bins, patches = plt.hist(empirical_posterior.values,bins=40,normed=True)"
   ]
  },
  {
   "cell_type": "code",
   "execution_count": 13,
   "metadata": {},
   "outputs": [
    {
     "data": {
      "text/plain": [
       "[<matplotlib.lines.Line2D at 0x7f675cbcddd8>]"
      ]
     },
     "execution_count": 13,
     "metadata": {},
     "output_type": "execute_result"
    },
    {
     "data": {
      "image/png": "[encoded data removed]",
      "text/plain": [
       "<matplotlib.figure.Figure at 0x7f675ccdc518>"
      ]
     },
     "metadata": {},
     "output_type": "display_data"
    }
   ],
   "source": [
    "n, bins, patches = plt.hist(empirical_posterior.values, bins=20,weights=empirical_posterior.weights)\n",
    "x = np.linspace(min(empirical_posterior.values),max(empirical_posterior.values),400)\n",
    "plt.plot(x, np.vectorize(true_posterior)(x))"
   ]
  },
  {
   "cell_type": "markdown",
   "metadata": {},
   "source": [
    "## Inference compilation"
   ]
  },
  {
   "cell_type": "code",
   "execution_count": 14,
   "metadata": {
    "scrolled": true
   },
   "outputs": [
    {
     "name": "stdout",
     "output_type": "stream",
     "text": [
      "────────┬─────────────┬───────┬─────────────────┬─────────────────\n",
      "        │ Train. time │ Trace │ Training loss   │ Valid. loss     \n",
      "────────┼─────────────┼───────┼─────────────────┼─────────────────\n",
      "Start   │ 0d:00:00:00 │ 0     │ +8.432357e+00   │ +8.121527e+00\n",
      "Best    │ 0d:00:00:04 │ 1,536 │ \u001b[1m\u001b[32m+5.295507e+00\u001b[0m   │ \u001b[1m\u001b[32m+5.689740e+00\u001b[0m\n",
      "Current │ 0d:00:00:04 │ 1,536 │ \u001b[1m\u001b[32m+5.295507e+00 ▼\u001b[0m │ \u001b[1m\u001b[32m+5.689740e+00 ▼\u001b[0m\n",
      "────────┴─────────────┴───────┴─────────────────┴─────────────────\n",
      "Training on CPU, 77  traces/s\n",
      "Stopped\n"
     ]
    }
   ],
   "source": [
    "pyprob.set_cuda(False)\n",
    "model.learn_proposal(max_traces = 1000)"
   ]
  },
  {
   "cell_type": "markdown",
   "metadata": {},
   "source": [
    "## Inference with compiled sequential importance sampling"
   ]
  },
  {
   "cell_type": "code",
   "execution_count": 15,
   "metadata": {},
   "outputs": [
    {
     "name": "stdout",
     "output_type": "stream",
     "text": [
      "CPU times: user 13.4 s, sys: 8.08 s, total: 21.4 s\n",
      "Wall time: 5.23 s\n"
     ]
    }
   ],
   "source": [
    "%time empirical_posterior = model.posterior_samples(10000, [8, 9])"
   ]
  },
  {
   "cell_type": "code",
   "execution_count": 16,
   "metadata": {},
   "outputs": [
    {
     "data": {
      "image/png": "[encoded data removed]",
      "text/plain": [
       "<matplotlib.figure.Figure at 0x7f675cb00630>"
      ]
     },
     "metadata": {},
     "output_type": "display_data"
    }
   ],
   "source": [
    "n, bins, patches = plt.hist(empirical_posterior.values,bins=40,normed=True)"
   ]
  },
  {
   "cell_type": "code",
   "execution_count": 17,
   "metadata": {},
   "outputs": [
    {
     "data": {
      "text/plain": [
       "[<matplotlib.lines.Line2D at 0x7f675ca62780>]"
      ]
     },
     "execution_count": 17,
     "metadata": {},
     "output_type": "execute_result"
    },
    {
     "data": {
      "image/png": "[encoded data removed]",
      "text/plain": [
       "<matplotlib.figure.Figure at 0x7f675cb05240>"
      ]
     },
     "metadata": {},
     "output_type": "display_data"
    }
   ],
   "source": [
    "n, bins, patches = plt.hist(empirical_posterior.values, bins=20,weights=empirical_posterior.weights)\n",
    "x = np.linspace(min(empirical_posterior.values),max(empirical_posterior.values),400)\n",
    "plt.plot(x, np.vectorize(true_posterior)(x))"
   ]
  },
  {
   "cell_type": "code",
   "execution_count": 18,
   "metadata": {
    "collapsed": true
   },
   "outputs": [],
   "source": [
    "samples = np.random.choice(empirical_posterior.values, size=1000, p=empirical_posterior.weights)"
   ]
  },
  {
   "cell_type": "code",
   "execution_count": 19,
   "metadata": {},
   "outputs": [
    {
     "data": {
      "image/png": "[encoded data removed]",
      "text/plain": [
       "<matplotlib.figure.Figure at 0x7f675c67e828>"
      ]
     },
     "metadata": {},
     "output_type": "display_data"
    }
   ],
   "source": [
    "n, bins, patches = plt.hist(samples,bins=10,normed=True)"
   ]
  },
  {
   "cell_type": "code",
   "execution_count": null,
   "metadata": {
    "collapsed": true
   },
   "outputs": [],
   "source": []
  }
 ],
 "metadata": {
  "kernelspec": {
   "display_name": "Python 3",
   "language": "python",
   "name": "python3"
  },
  "language_info": {
   "codemirror_mode": {
    "name": "ipython",
    "version": 3
   },
   "file_extension": ".py",
   "mimetype": "text/x-python",
   "name": "python",
   "nbconvert_exporter": "python",
   "pygments_lexer": "ipython3",
   "version": "3.6.3"
  }
 },
 "nbformat": 4,
 "nbformat_minor": 2
}
