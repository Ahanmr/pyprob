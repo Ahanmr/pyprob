{
 "cells": [
  {
   "cell_type": "code",
   "execution_count": 1,
   "metadata": {
    "collapsed": true
   },
   "outputs": [],
   "source": [
    "import pyprob\n",
    "from pyprob import Model\n",
    "from pyprob.distributions import Normal\n",
    "\n",
    "import torch\n",
    "import numpy as np\n",
    "import math\n",
    "import matplotlib.pyplot as plt\n",
    "%matplotlib inline"
   ]
  },
  {
   "cell_type": "markdown",
   "metadata": {},
   "source": [
    "# Define model\n",
    "\n",
    "First, we define the model as a probabilistic program inheriting from `pyprob.Model`. Models inherit from `torch.nn.Module` and can be potentially trained with gradient-based optimization (not covered in this example).\n",
    "\n",
    "The `forward` function can have any number and type of arguments as needed. \n",
    "\n",
    "**Important:** For running posterior inference inference compilation, it is expected that `forward` has an argument called `observation` with which the observations are given to the model."
   ]
  },
  {
   "cell_type": "code",
   "execution_count": 2,
   "metadata": {
    "collapsed": true
   },
   "outputs": [],
   "source": [
    "# http://www.robots.ox.ac.uk/~fwood/assets/pdf/Wood-AISTATS-2014.pdf\n",
    "\n",
    "class GaussianWithUnknownMean(Model):\n",
    "    def __init__(self, prior_mean=1, prior_stddev=math.sqrt(5), likelihood_stddev=math.sqrt(2)):\n",
    "        self.prior_mean = prior_mean\n",
    "        self.prior_stddev = prior_stddev\n",
    "        self.likelihood_stddev = likelihood_stddev\n",
    "        super().__init__('Gaussian with unknown mean')\n",
    "\n",
    "    def forward(self, observation=[]):\n",
    "        mu = pyprob.sample(Normal(self.prior_mean, self.prior_stddev))\n",
    "        likelihood = Normal(mu, self.likelihood_stddev)\n",
    "        for o in observation:\n",
    "            pyprob.observe(likelihood, o)\n",
    "        return mu\n",
    "    \n",
    "model = GaussianWithUnknownMean()\n",
    "\n",
    "def correct_posterior(x):\n",
    "    p = Normal(7.25, math.sqrt(1/1.2))\n",
    "    return math.exp(p.log_prob(x))"
   ]
  },
  {
   "cell_type": "markdown",
   "metadata": {},
   "source": [
    "# Test the prior\n",
    "\n",
    "We inspect the prior distribution to see if it behaves in the way we intended. First we construct an `Empirical` distribution with forward samples from the model. \n",
    "\n",
    "Note: Any arguments, besides `samples`, given to `prior_distribution` will be forwarded to the model's `forward` function."
   ]
  },
  {
   "cell_type": "code",
   "execution_count": 3,
   "metadata": {},
   "outputs": [
    {
     "name": "stdout",
     "output_type": "stream",
     "text": [
      "0d:00:00:01 | #################### | 1000 / 1000 | 926 traces/s \n"
     ]
    }
   ],
   "source": [
    "prior_dist = model.prior_distribution(traces=1000)"
   ]
  },
  {
   "cell_type": "code",
   "execution_count": 4,
   "metadata": {},
   "outputs": [
    {
     "name": "stdout",
     "output_type": "stream",
     "text": [
      "0d:00:00:00 | #################### | 1 / 1 | 0 traces/s         \n"
     ]
    }
   ],
   "source": [
    "trace = model._prior_traces(traces=1)[0]"
   ]
  },
  {
   "cell_type": "markdown",
   "metadata": {},
   "source": [
    "We can plot a historgram of these samples that are held by the `Empirical` distribution."
   ]
  },
  {
   "cell_type": "code",
   "execution_count": 5,
   "metadata": {},
   "outputs": [
    {
     "data": {
      "image/png": "[encoded data removed]",
      "text/plain": [
       "<matplotlib.figure.Figure at 0x7f02f9cf0fd0>"
      ]
     },
     "metadata": {},
     "output_type": "display_data"
    }
   ],
   "source": [
    "n, bins, patches = plt.hist(prior_dist.values_numpy, normed=1, alpha=0.75)"
   ]
  },
  {
   "cell_type": "markdown",
   "metadata": {},
   "source": [
    "We can also `sample` from the `Empirical` distribution."
   ]
  },
  {
   "cell_type": "code",
   "execution_count": 6,
   "metadata": {},
   "outputs": [
    {
     "name": "stdout",
     "output_type": "stream",
     "text": [
      "Variable containing:\n",
      "-0.8538\n",
      "[torch.FloatTensor of size 1]\n",
      "\n"
     ]
    }
   ],
   "source": [
    "print(prior_dist.sample())"
   ]
  },
  {
   "cell_type": "markdown",
   "metadata": {},
   "source": [
    "# Posterior inference with importance sampling\n",
    "\n",
    "For a given set of observations, we can get samples from the posterior distribution."
   ]
  },
  {
   "cell_type": "code",
   "execution_count": 7,
   "metadata": {},
   "outputs": [
    {
     "name": "stdout",
     "output_type": "stream",
     "text": [
      "0d:00:00:07 | #################### | 5000 / 5000 | 671 traces/s \n"
     ]
    }
   ],
   "source": [
    "posterior_dist = model.posterior_distribution(traces=5000, observation=[8,9])"
   ]
  },
  {
   "cell_type": "markdown",
   "metadata": {},
   "source": [
    "Regular importance sampling uses proposals from the prior distribution. We can see this by plotting the histogram of the posterior distribution without using the importance weights. As expected, this is the same with the prior distribution."
   ]
  },
  {
   "cell_type": "code",
   "execution_count": 8,
   "metadata": {},
   "outputs": [
    {
     "data": {
      "image/png": "[encoded data removed]",
      "text/plain": [
       "<matplotlib.figure.Figure at 0x7f02f68f4518>"
      ]
     },
     "metadata": {},
     "output_type": "display_data"
    }
   ],
   "source": [
    "posterior_dist_unweighted = posterior_dist.unweighted()\n",
    "n, bins, patches = plt.hist([float(posterior_dist_unweighted.sample()) for i in range(1000)], normed=1, alpha=0.75)"
   ]
  },
  {
   "cell_type": "markdown",
   "metadata": {},
   "source": [
    "When we do use the weights, we end up with the correct posterior distribution. The following shows the sampled posterior with the correct posterior (orange curve)."
   ]
  },
  {
   "cell_type": "code",
   "execution_count": 9,
   "metadata": {},
   "outputs": [
    {
     "data": {
      "text/plain": [
       "[<matplotlib.lines.Line2D at 0x7f02f5af2550>]"
      ]
     },
     "execution_count": 9,
     "metadata": {},
     "output_type": "execute_result"
    },
    {
     "data": {
      "image/png": "[encoded data removed]",
      "text/plain": [
       "<matplotlib.figure.Figure at 0x7f02f56b2128>"
      ]
     },
     "metadata": {},
     "output_type": "display_data"
    }
   ],
   "source": [
    "n, bins, patches = plt.hist([float(posterior_dist.sample()) for i in range(1000)], normed=1, alpha=0.75)\n",
    "x = np.linspace(min(posterior_dist.values_numpy),max(posterior_dist.values_numpy),400)\n",
    "plt.plot(x, np.vectorize(correct_posterior)(x))"
   ]
  },
  {
   "cell_type": "markdown",
   "metadata": {},
   "source": [
    "In practice, it is advised to use methods of the `Empirical` posterior distribution instead of dealing with the weights directly, which ensures that the weights are used in the correct way.\n",
    "\n",
    "For instance, we can get samples from the correct posterior, compute its mean and standard deviation, and evaluate expectations of a function under the distribution."
   ]
  },
  {
   "cell_type": "code",
   "execution_count": 10,
   "metadata": {},
   "outputs": [
    {
     "name": "stdout",
     "output_type": "stream",
     "text": [
      "Variable containing:\n",
      " 7.3846\n",
      "[torch.FloatTensor of size 1]\n",
      "\n"
     ]
    }
   ],
   "source": [
    "print(posterior_dist.sample())"
   ]
  },
  {
   "cell_type": "code",
   "execution_count": 11,
   "metadata": {},
   "outputs": [
    {
     "name": "stdout",
     "output_type": "stream",
     "text": [
      "Variable containing:\n",
      " 6.9998\n",
      "[torch.FloatTensor of size 1]\n",
      "\n"
     ]
    }
   ],
   "source": [
    "print(posterior_dist.mean)"
   ]
  },
  {
   "cell_type": "code",
   "execution_count": 12,
   "metadata": {},
   "outputs": [
    {
     "name": "stdout",
     "output_type": "stream",
     "text": [
      "Variable containing:\n",
      " 0.7146\n",
      "[torch.FloatTensor of size 1]\n",
      "\n"
     ]
    }
   ],
   "source": [
    "print(posterior_dist.stddev)"
   ]
  },
  {
   "cell_type": "code",
   "execution_count": 13,
   "metadata": {},
   "outputs": [
    {
     "name": "stdout",
     "output_type": "stream",
     "text": [
      "Variable containing:\n",
      " 0.5290\n",
      "[torch.FloatTensor of size 1]\n",
      "\n"
     ]
    }
   ],
   "source": [
    "print(posterior_dist.expectation(lambda x: torch.sin(x)))"
   ]
  },
  {
   "cell_type": "markdown",
   "metadata": {},
   "source": [
    "# Inference compilation\n",
    "\n",
    "Inference compilation is a technique where a deep neural network is used for parameterizing the proposal distribution in importance sampling (https://arxiv.org/abs/1610.09900). This neural network, which we call inference network, is automatically generated and trained with data sampled from the model.\n",
    "\n",
    "We can learn an inference network for our model."
   ]
  },
  {
   "cell_type": "code",
   "execution_count": 14,
   "metadata": {},
   "outputs": [
    {
     "name": "stdout",
     "output_type": "stream",
     "text": [
      "Creating new inference network...\n",
      "0d:00:00:00 | #################### | 256 / 256 | 644 traces/s   \n",
      "Polymorphing, new layers for address: 16/forward.mu_Normal\n",
      "Train. time | Trace     | Init. loss | Max. loss  | Min. loss  | Curr. loss | T.since min | Traces/sec\n",
      "0d:00:00:00 | #################### | 64 / 64 | 609 traces/s     \n",
      "0d:00:00:00 | #################### | 64 / 64 | 610 traces/s     405e+00\u001b[0m | \u001b[1m\u001b[32m+2.405e+00\u001b[0m | \u001b[1m\u001b[32m0d:00:00:00\u001b[0m | 230\n",
      "0d:00:00:00 | #################### | 64 / 64 | 923 traces/s     221e+00\u001b[0m | \u001b[1m\u001b[32m+2.221e+00\u001b[0m | \u001b[1m\u001b[32m0d:00:00:00\u001b[0m | 246\n",
      "0d:00:00:00 | #################### | 64 / 64 | 953 traces/s     213e+00\u001b[0m | \u001b[1m\u001b[32m+2.213e+00\u001b[0m | \u001b[1m\u001b[32m0d:00:00:00\u001b[0m | 246\n",
      "0d:00:00:00 | #################### | 64 / 64 | 741 traces/s     085e+00\u001b[0m | \u001b[1m\u001b[32m+2.085e+00\u001b[0m | \u001b[1m\u001b[32m0d:00:00:00\u001b[0m | 265\n",
      "0d:00:00:00 | #################### | 64 / 64 | 644 traces/s     049e+00\u001b[0m | \u001b[1m\u001b[32m+2.049e+00\u001b[0m | \u001b[1m\u001b[32m0d:00:00:00\u001b[0m | 248\n",
      "0d:00:00:00 | #################### | 64 / 64 | 953 traces/s     942e+00\u001b[0m | \u001b[1m\u001b[32m+1.942e+00\u001b[0m | \u001b[1m\u001b[32m0d:00:00:00\u001b[0m | 229\n",
      "0d:00:00:00 | #################### | 64 / 64 | 1,095 traces/s   927e+00\u001b[0m | \u001b[1m\u001b[32m+1.927e+00\u001b[0m | \u001b[1m\u001b[32m0d:00:00:00\u001b[0m | 286\n",
      "0d:00:00:00 | #################### | 64 / 64 | 551 traces/s     738e+00\u001b[0m | \u001b[1m\u001b[32m+1.738e+00\u001b[0m | \u001b[1m\u001b[32m0d:00:00:00\u001b[0m | 293\n",
      "0d:00:00:00 | #################### | 64 / 64 | 945 traces/s      \u001b[31m+1.930e+00\u001b[0m | 0d:00:00:00 | 221                              \n",
      "0d:00:00:00 | #################### | 64 / 64 | 1,053 traces/s   621e+00\u001b[0m | \u001b[1m\u001b[32m+1.621e+00\u001b[0m | \u001b[1m\u001b[32m0d:00:00:00\u001b[0m | 240\n",
      "0d:00:00:00 | #################### | 64 / 64 | 1,006 traces/s   556e+00\u001b[0m | \u001b[1m\u001b[32m+1.556e+00\u001b[0m | \u001b[1m\u001b[32m0d:00:00:00\u001b[0m | 262\n",
      "0d:00:00:00 | #################### | 64 / 64 | 962 traces/s      \u001b[31m+1.904e+00\u001b[0m | 0d:00:00:00 | 252                              \n",
      "0d:00:00:00 | #################### | 64 / 64 | 681 traces/s      \u001b[32m+1.608e+00\u001b[0m | 0d:00:00:00 | 295\n",
      "0d:00:00:00 | #################### | 64 / 64 | 941 traces/s      \u001b[31m+1.686e+00\u001b[0m | 0d:00:00:00 | 237\n",
      "0d:00:00:00 | #################### | 64 / 64 | 982 traces/s      \u001b[31m+1.808e+00\u001b[0m | 0d:00:00:00 | 287\n",
      "0d:00:00:00 | #################### | 64 / 64 | 674 traces/s      \u001b[31m+1.881e+00\u001b[0m | 0d:00:00:01 | 284\n",
      "0d:00:00:00 | #################### | 64 / 64 | 982 traces/s      \u001b[31m+1.985e+00\u001b[0m | 0d:00:00:01 | 240\n",
      "0d:00:00:00 | #################### | 64 / 64 | 889 traces/s      \u001b[32m+1.834e+00\u001b[0m | 0d:00:00:01 | 276\n",
      "0d:00:00:00 | #################### | 64 / 64 | 559 traces/s      \u001b[31m+1.870e+00\u001b[0m | 0d:00:00:01 | 240\n",
      "0d:00:00:00 | #################### | 64 / 64 | 909 traces/s      \u001b[32m+1.808e+00\u001b[0m | 0d:00:00:02 | 221\n",
      "0d:00:00:00 | #################### | 64 / 64 | 1,006 traces/s    \u001b[32m+1.779e+00\u001b[0m | 0d:00:00:02 | 280\n",
      "0d:00:00:00 | #################### | 64 / 64 | 942 traces/s      \u001b[31m+1.810e+00\u001b[0m | 0d:00:00:02 | 286\n",
      "0d:00:00:00 | #################### | 64 / 64 | 993 traces/s      \u001b[31m+1.822e+00\u001b[0m | 0d:00:00:02 | 279\n",
      "0d:00:00:00 | #################### | 64 / 64 | 937 traces/s      \u001b[32m+1.710e+00\u001b[0m | 0d:00:00:03 | 309\n",
      "0d:00:00:00 | #################### | 64 / 64 | 1,010 traces/s    \u001b[31m+1.771e+00\u001b[0m | 0d:00:00:03 | 269\n",
      "0d:00:00:00 | #################### | 64 / 64 | 913 traces/s      \u001b[31m+1.803e+00\u001b[0m | 0d:00:00:03 | 319\n",
      "0d:00:00:00 | #################### | 64 / 64 | 1,007 traces/s    \u001b[32m+1.657e+00\u001b[0m | 0d:00:00:03 | 271\n",
      "0d:00:00:00 | #################### | 64 / 64 | 948 traces/s      \u001b[32m+1.615e+00\u001b[0m | 0d:00:00:04 | 305\n",
      "0d:00:00:00 | #################### | 64 / 64 | 787 traces/s      \u001b[31m+1.662e+00\u001b[0m | 0d:00:00:04 | 283\n",
      "0d:00:00:00 | #################### | 64 / 64 | 1,062 traces/s    \u001b[31m+1.811e+00\u001b[0m | 0d:00:00:04 | 269\n",
      "0d:00:00:00 | #################### | 64 / 64 | 1,059 traces/s    \u001b[32m+1.745e+00\u001b[0m | 0d:00:00:04 | 327\n",
      "0d:00:00:00 | #################### | 64 / 64 | 924 traces/s      \u001b[32m+1.663e+00\u001b[0m | 0d:00:00:04 | 287\n",
      "0d:00:00:00 | #################### | 64 / 64 | 1,093 traces/s    \u001b[31m+1.915e+00\u001b[0m | 0d:00:00:05 | 245\n",
      "0d:00:00:00 | #################### | 64 / 64 | 726 traces/s      \u001b[32m+1.710e+00\u001b[0m | 0d:00:00:05 | 308\n",
      "0d:00:00:00 | #################### | 64 / 64 | 479 traces/s      \u001b[31m+1.782e+00\u001b[0m | 0d:00:00:05 | 249\n",
      "0d:00:00:00 | #################### | 64 / 64 | 558 traces/s      \u001b[32m+1.734e+00\u001b[0m | 0d:00:00:05 | 217\n",
      "0d:00:00:00 | #################### | 64 / 64 | 1,061 traces/s    \u001b[31m+1.765e+00\u001b[0m | 0d:00:00:06 | 232\n",
      "0d:00:00:00 | #################### | 64 / 64 | 751 traces/s      \u001b[32m+1.722e+00\u001b[0m | 0d:00:00:06 | 304\n",
      "0d:00:00:00 | #################### | 64 / 64 | 747 traces/s      \u001b[32m+1.697e+00\u001b[0m | 0d:00:00:06 | 265\n",
      "0d:00:00:00 | #################### | 64 / 64 | 988 traces/s      \u001b[32m+1.653e+00\u001b[0m | 0d:00:00:06 | 262\n",
      "0d:00:00:00 | #################### | 64 / 64 | 1,011 traces/s    \u001b[31m+1.665e+00\u001b[0m | 0d:00:00:07 | 314\n",
      "0d:00:00:00 | #################### | 64 / 64 | 909 traces/s      \u001b[31m+1.762e+00\u001b[0m | 0d:00:00:07 | 296\n",
      "0d:00:00:00 | #################### | 64 / 64 | 995 traces/s      \u001b[31m+1.937e+00\u001b[0m | 0d:00:00:07 | 303\n",
      "0d:00:00:00 | #################### | 64 / 64 | 638 traces/s      \u001b[32m+1.623e+00\u001b[0m | 0d:00:00:07 | 296\n",
      "0d:00:00:00 | #################### | 64 / 64 | 1,007 traces/s    \u001b[31m+1.758e+00\u001b[0m | 0d:00:00:07 | 238\n",
      "0d:00:00:00 | #################### | 64 / 64 | 574 traces/s      \u001b[32m+1.711e+00\u001b[0m | 0d:00:00:08 | 297\n",
      "0d:00:00:00 | #################### | 64 / 64 | 1,012 traces/s    \u001b[31m+1.718e+00\u001b[0m | 0d:00:00:08 | 225\n",
      "0d:00:00:00 | #################### | 64 / 64 | 981 traces/s      \u001b[31m+1.800e+00\u001b[0m | 0d:00:00:08 | 305\n",
      "0d:00:00:00 | #################### | 64 / 64 | 932 traces/s      \u001b[32m+1.742e+00\u001b[0m | 0d:00:00:08 | 279\n",
      "0d:00:00:00 | #################### | 64 / 64 | 969 traces/s      \u001b[31m+1.847e+00\u001b[0m | 0d:00:00:09 | 293\n",
      "0d:00:00:00 | #################### | 64 / 64 | 792 traces/s      \u001b[32m+1.665e+00\u001b[0m | 0d:00:00:09 | 280\n",
      "0d:00:00:00 | #################### | 64 / 64 | 613 traces/s      \u001b[31m+1.888e+00\u001b[0m | 0d:00:00:09 | 254\n",
      "0d:00:00:00 | #################### | 64 / 64 | 624 traces/s      \u001b[31m+2.051e+00\u001b[0m | 0d:00:00:09 | 241\n",
      "0d:00:00:00 | #################### | 64 / 64 | 793 traces/s      \u001b[32m+1.724e+00\u001b[0m | 0d:00:00:10 | 222\n",
      "0d:00:00:00 | #################### | 64 / 64 | 980 traces/s      \u001b[32m+1.682e+00\u001b[0m | 0d:00:00:10 | 286\n",
      "0d:00:00:00 | #################### | 64 / 64 | 1,073 traces/s    \u001b[31m+1.873e+00\u001b[0m | 0d:00:00:10 | 252\n",
      "0d:00:00:00 | #################### | 64 / 64 | 943 traces/s      \u001b[32m+1.721e+00\u001b[0m | 0d:00:00:10 | 320\n",
      "0d:00:00:00 | #################### | 64 / 64 | 519 traces/s      \u001b[32m+1.578e+00\u001b[0m | 0d:00:00:11 | 258\n",
      "0d:00:00:00 | #################### | 64 / 64 | 931 traces/s      \u001b[31m+1.673e+00\u001b[0m | 0d:00:00:11 | 236\n",
      "0d:00:00:00 | #################### | 64 / 64 | 873 traces/s      \u001b[31m+1.800e+00\u001b[0m | 0d:00:00:11 | 267\n",
      "0d:00:00:00 | #################### | 64 / 64 | 820 traces/s      \u001b[31m+1.868e+00\u001b[0m | 0d:00:00:11 | 270\n",
      "0d:00:00:00 | #################### | 64 / 64 | 647 traces/s      \u001b[32m+1.752e+00\u001b[0m | 0d:00:00:12 | 278\n",
      "0d:00:00:00 | #################### | 64 / 64 | 709 traces/s      \u001b[32m+1.703e+00\u001b[0m | 0d:00:00:12 | 257\n",
      "0d:00:00:00 | #################### | 64 / 64 | 1,001 traces/s    \u001b[32m+1.581e+00\u001b[0m | 0d:00:00:12 | 253\n",
      "0d:00:00:00 | #################### | 64 / 64 | 944 traces/s      \u001b[31m+1.751e+00\u001b[0m | 0d:00:00:12 | 291\n",
      "0d:00:00:00 | #################### | 64 / 64 | 969 traces/s      \u001b[31m+1.838e+00\u001b[0m | 0d:00:00:13 | 291\n",
      "0d:00:00:00 | #################### | 64 / 64 | 998 traces/s      \u001b[32m+1.740e+00\u001b[0m | 0d:00:00:13 | 278\n",
      "0d:00:00:00 | #################### | 64 / 64 | 1,020 traces/s    \u001b[31m+1.795e+00\u001b[0m | 0d:00:00:13 | 297\n",
      "0d:00:00:00 | #################### | 64 / 64 | 1,018 traces/s    \u001b[32m+1.791e+00\u001b[0m | 0d:00:00:13 | 324\n",
      "0d:00:00:00 | #################### | 64 / 64 | 770 traces/s      \u001b[31m+1.823e+00\u001b[0m | 0d:00:00:13 | 301\n",
      "0d:00:00:00 | #################### | 64 / 64 | 1,023 traces/s    \u001b[32m+1.649e+00\u001b[0m | 0d:00:00:14 | 268\n"
     ]
    },
    {
     "name": "stdout",
     "output_type": "stream",
     "text": [
      "0d:00:00:00 | #################### | 64 / 64 | 1,011 traces/s    \u001b[31m+1.989e+00\u001b[0m | 0d:00:00:14 | 294\n",
      "0d:00:00:00 | #################### | 64 / 64 | 788 traces/s      \u001b[32m+1.633e+00\u001b[0m | 0d:00:00:14 | 274\n",
      "0d:00:00:00 | #################### | 64 / 64 | 877 traces/s      \u001b[31m+1.687e+00\u001b[0m | 0d:00:00:14 | 253\n",
      "0d:00:00:00 | #################### | 64 / 64 | 818 traces/s      \u001b[31m+1.703e+00\u001b[0m | 0d:00:00:15 | 250\n",
      "0d:00:00:00 | #################### | 64 / 64 | 626 traces/s      \u001b[31m+1.757e+00\u001b[0m | 0d:00:00:15 | 254\n",
      "0d:00:00:00 | #################### | 64 / 64 | 711 traces/s      \u001b[32m+1.729e+00\u001b[0m | 0d:00:00:15 | 243\n",
      "0d:00:00:00 | #################### | 64 / 64 | 718 traces/s      \u001b[32m+1.592e+00\u001b[0m | 0d:00:00:15 | 232\n",
      "0d:00:00:00 | #################### | 64 / 64 | 1,035 traces/s    \u001b[31m+1.665e+00\u001b[0m | 0d:00:00:16 | 250\n",
      "0d:00:00:00 | #################### | 64 / 64 | 974 traces/s      \u001b[31m+1.772e+00\u001b[0m | 0d:00:00:16 | 280\n",
      "0d:00:00:00 | #################### | 64 / 64 | 657 traces/s      \u001b[31m+1.917e+00\u001b[0m | 0d:00:00:16 | 260\n",
      "0d:00:00:00 | #################### | 64 / 64 | 843 traces/s      \u001b[32m+1.672e+00\u001b[0m | 0d:00:00:16 | 243\n",
      "0d:00:00:00 | #################### | 64 / 64 | 680 traces/s      \u001b[32m+1.556e+00\u001b[0m | 0d:00:00:17 | 245\n",
      "0d:00:00:00 | #################### | 64 / 64 | 969 traces/s      \u001b[31m+1.676e+00\u001b[0m | 0d:00:00:17 | 255\n",
      "0d:00:00:00 | #################### | 64 / 64 | 602 traces/s      \u001b[32m+1.573e+00\u001b[0m | 0d:00:00:17 | 271\n",
      "0d:00:00:00 | #################### | 64 / 64 | 938 traces/s      \u001b[31m+1.713e+00\u001b[0m | 0d:00:00:17 | 267\n",
      "0d:00:00:00 | #################### | 64 / 64 | 1,105 traces/s    \u001b[32m+1.700e+00\u001b[0m | 0d:00:00:18 | 237\n",
      "0d:00:00:00 | #################### | 64 / 64 | 638 traces/s      \u001b[32m+1.567e+00\u001b[0m | 0d:00:00:18 | 290\n",
      "0d:00:00:00 | #################### | 64 / 64 | 957 traces/s      \u001b[31m+1.801e+00\u001b[0m | 0d:00:00:18 | 253\n",
      "0d:00:00:00 | #################### | 64 / 64 | 952 traces/s      \u001b[32m+1.773e+00\u001b[0m | 0d:00:00:18 | 297\n",
      "0d:00:00:00 | #################### | 64 / 64 | 1,125 traces/s    \u001b[31m+1.894e+00\u001b[0m | 0d:00:00:19 | 269\n",
      "0d:00:00:00 | #################### | 64 / 64 | 1,017 traces/s    \u001b[32m+1.878e+00\u001b[0m | 0d:00:00:19 | 319\n",
      "0d:00:00:00 | #################### | 64 / 64 | 937 traces/s      \u001b[32m+1.680e+00\u001b[0m | 0d:00:00:19 | 285\n",
      "0d:00:00:00 | #################### | 64 / 64 | 865 traces/s      \u001b[31m+2.129e+00\u001b[0m | 0d:00:00:19 | 271\n",
      "0d:00:00:00 | #################### | 64 / 64 | 1,077 traces/s    \u001b[32m+1.818e+00\u001b[0m | 0d:00:00:19 | 265\n",
      "0d:00:00:00 | #################### | 64 / 64 | 822 traces/s      \u001b[32m+1.619e+00\u001b[0m | 0d:00:00:20 | 294\n",
      "0d:00:00:00 | #################### | 64 / 64 | 848 traces/s      \u001b[31m+1.899e+00\u001b[0m | 0d:00:00:20 | 226\n",
      "0d:00:00:00 | #################### | 64 / 64 | 519 traces/s      \u001b[32m+1.730e+00\u001b[0m | 0d:00:00:20 | 268\n",
      "0d:00:00:00 | #################### | 64 / 64 | 515 traces/s      \u001b[32m+1.730e+00\u001b[0m | 0d:00:00:20 | 215\n",
      "0d:00:00:00 | #################### | 64 / 64 | 904 traces/s      \u001b[32m+1.648e+00\u001b[0m | 0d:00:00:21 | 228\n",
      "0d:00:00:00 | #################### | 64 / 64 | 692 traces/s      \u001b[31m+1.754e+00\u001b[0m | 0d:00:00:21 | 298\n",
      "0d:00:00:00 | #################### | 64 / 64 | 682 traces/s      \u001b[32m+1.694e+00\u001b[0m | 0d:00:00:21 | 248\n",
      "0d:00:00:00 | #################### | 64 / 64 | 746 traces/s      \u001b[32m+1.671e+00\u001b[0m | 0d:00:00:21 | 235\n",
      "0d:00:00:00 | #################### | 64 / 64 | 985 traces/s      \u001b[31m+1.872e+00\u001b[0m | 0d:00:00:22 | 219\n",
      "0d:00:00:00 | #################### | 64 / 64 | 690 traces/s      \u001b[32m+1.852e+00\u001b[0m | 0d:00:00:22 | 288\n",
      "0d:00:00:00 | #################### | 64 / 64 | 544 traces/s      \u001b[32m+1.799e+00\u001b[0m | 0d:00:00:22 | 269\n",
      "0d:00:00:00 | #################### | 64 / 64 | 942 traces/s      \u001b[32m+1.728e+00\u001b[0m | 0d:00:00:23 | 223\n",
      "0d:00:00:00 | #################### | 64 / 64 | 768 traces/s      \u001b[32m+1.707e+00\u001b[0m | 0d:00:00:23 | 279\n",
      "0d:00:00:00 | #################### | 64 / 64 | 890 traces/s      \u001b[31m+1.737e+00\u001b[0m | 0d:00:00:23 | 273\n",
      "0d:00:00:00 | #################### | 64 / 64 | 798 traces/s      \u001b[31m+1.776e+00\u001b[0m | 0d:00:00:23 | 279\n",
      "0d:00:00:00 | #################### | 64 / 64 | 718 traces/s      \u001b[31m+1.778e+00\u001b[0m | 0d:00:00:23 | 262\n",
      "0d:00:00:00 | #################### | 64 / 64 | 759 traces/s      \u001b[31m+1.935e+00\u001b[0m | 0d:00:00:24 | 276\n",
      "0d:00:00:00 | #################### | 64 / 64 | 823 traces/s      \u001b[31m+2.152e+00\u001b[0m | 0d:00:00:24 | 257\n",
      "0d:00:00:00 | #################### | 64 / 64 | 978 traces/s      \u001b[32m+1.689e+00\u001b[0m | 0d:00:00:24 | 270\n",
      "0d:00:00:00 | #################### | 64 / 64 | 679 traces/s      \u001b[31m+1.808e+00\u001b[0m | 0d:00:00:24 | 291\n",
      "0d:00:00:00 | #################### | 64 / 64 | 1,039 traces/s    \u001b[32m+1.764e+00\u001b[0m | 0d:00:00:25 | 249\n",
      "0d:00:00:00 | #################### | 64 / 64 | 940 traces/s      \u001b[32m+1.707e+00\u001b[0m | 0d:00:00:25 | 287\n",
      "0d:00:00:00 | #################### | 64 / 64 | 715 traces/s      \u001b[31m+1.856e+00\u001b[0m | 0d:00:00:25 | 293\n",
      "0d:00:00:00 | #################### | 64 / 64 | 666 traces/s      \u001b[32m+1.751e+00\u001b[0m | 0d:00:00:25 | 248\n",
      "0d:00:00:00 | #################### | 64 / 64 | 1,040 traces/s    \u001b[32m+1.684e+00\u001b[0m | 0d:00:00:26 | 252\n",
      "0d:00:00:00 | #################### | 64 / 64 | 956 traces/s      \u001b[31m+1.818e+00\u001b[0m | 0d:00:00:26 | 289\n",
      "0d:00:00:00 | #################### | 64 / 64 | 1,024 traces/s    \u001b[32m+1.673e+00\u001b[0m | 0d:00:00:26 | 288\n",
      "0d:00:00:00 | #################### | 64 / 64 | 652 traces/s      \u001b[32m+1.648e+00\u001b[0m | 0d:00:00:26 | 307\n",
      "0d:00:00:00 | #################### | 64 / 64 | 748 traces/s      \u001b[31m+1.736e+00\u001b[0m | 0d:00:00:27 | 262\n",
      "0d:00:00:00 | #################### | 64 / 64 | 569 traces/s      \u001b[31m+1.974e+00\u001b[0m | 0d:00:00:27 | 276\n",
      "0d:00:00:00 | #################### | 64 / 64 | 579 traces/s      \u001b[32m+1.710e+00\u001b[0m | 0d:00:00:27 | 253\n",
      "0d:00:00:00 | #################### | 64 / 64 | 1,086 traces/s    \u001b[31m+1.759e+00\u001b[0m | 0d:00:00:27 | 237\n",
      "0d:00:00:00 | #################### | 64 / 64 | 718 traces/s      \u001b[32m+1.691e+00\u001b[0m | 0d:00:00:27 | 322\n",
      "0d:00:00:00 | #################### | 64 / 64 | 797 traces/s      \u001b[31m+1.702e+00\u001b[0m | 0d:00:00:28 | 273\n",
      "0d:00:00:00 | #################### | 64 / 64 | 823 traces/s      \u001b[32m+1.686e+00\u001b[0m | 0d:00:00:28 | 265\n",
      "0d:00:00:00 | #################### | 64 / 64 | 836 traces/s      \u001b[32m+1.616e+00\u001b[0m | 0d:00:00:28 | 278\n",
      "0d:00:00:00 | #################### | 64 / 64 | 669 traces/s      \u001b[31m+1.921e+00\u001b[0m | 0d:00:00:28 | 284\n",
      "0d:00:00:00 | #################### | 64 / 64 | 703 traces/s      \u001b[32m+1.699e+00\u001b[0m | 0d:00:00:29 | 259\n",
      "0d:00:00:00 | #################### | 64 / 64 | 974 traces/s      \u001b[32m+1.697e+00\u001b[0m | 0d:00:00:29 | 265\n",
      "0d:00:00:00 | #################### | 64 / 64 | 713 traces/s      \u001b[31m+1.833e+00\u001b[0m | 0d:00:00:29 | 296\n",
      "0d:00:00:00 | #################### | 64 / 64 | 512 traces/s      \u001b[31m+1.840e+00\u001b[0m | 0d:00:00:29 | 227\n",
      "0d:00:00:00 | #################### | 64 / 64 | 502 traces/s      \u001b[32m+1.712e+00\u001b[0m | 0d:00:00:30 | 213\n",
      "0d:00:00:00 | #################### | 64 / 64 | 990 traces/s      \u001b[31m+1.809e+00\u001b[0m | 0d:00:00:30 | 170\n",
      "0d:00:00:00 | #################### | 64 / 64 | 724 traces/s      \u001b[32m+1.748e+00\u001b[0m | 0d:00:00:30 | 292\n",
      "0d:00:00:00 | #################### | 64 / 64 | 903 traces/s      \u001b[31m+1.822e+00\u001b[0m | 0d:00:00:31 | 243\n",
      "0d:00:00:00 | #################### | 64 / 64 | 805 traces/s      \u001b[32m+1.760e+00\u001b[0m | 0d:00:00:31 | 256\n",
      "0d:00:00:00 | #################### | 64 / 64 | 384 traces/s      \u001b[32m+1.635e+00\u001b[0m | 0d:00:00:31 | 203\n",
      "0d:00:00:00 | #################### | 64 / 64 | 1,120 traces/s    \u001b[31m+1.754e+00\u001b[0m | 0d:00:00:31 | 178\n",
      "0d:00:00:00 | #################### | 64 / 64 | 764 traces/s      \u001b[32m+1.729e+00\u001b[0m | 0d:00:00:32 | 299\n",
      "0d:00:00:00 | #################### | 64 / 64 | 631 traces/s      \u001b[31m+1.864e+00\u001b[0m | 0d:00:00:32 | 273\n",
      "0d:00:00:00 | #################### | 64 / 64 | 771 traces/s      \u001b[32m+1.684e+00\u001b[0m | 0d:00:00:32 | 240\n",
      "0d:00:00:00 | #################### | 64 / 64 | 826 traces/s      \u001b[31m+1.686e+00\u001b[0m | 0d:00:00:32 | 256\n",
      "0d:00:00:00 | #################### | 64 / 64 | 966 traces/s      \u001b[31m+1.857e+00\u001b[0m | 0d:00:00:33 | 263\n",
      "0d:00:00:00 | #################### | 64 / 64 | 495 traces/s      \u001b[32m+1.737e+00\u001b[0m | 0d:00:00:33 | 297\n"
     ]
    },
    {
     "name": "stdout",
     "output_type": "stream",
     "text": [
      "0d:00:00:00 | #################### | 64 / 64 | 996 traces/s      \u001b[32m+1.587e+00\u001b[0m | 0d:00:00:33 | 223\n",
      "0d:00:00:00 | #################### | 64 / 64 | 355 traces/s      \u001b[31m+1.713e+00\u001b[0m | 0d:00:00:33 | 246\n",
      "0d:00:00:00 | #################### | 64 / 64 | 782 traces/s      \u001b[31m+1.804e+00\u001b[0m | 0d:00:00:34 | 189\n",
      "0d:00:00:00 | #################### | 64 / 64 | 856 traces/s      \u001b[32m+1.614e+00\u001b[0m | 0d:00:00:34 | 257\n",
      "0d:00:00:00 | #################### | 64 / 64 | 931 traces/s      \u001b[31m+1.798e+00\u001b[0m | 0d:00:00:34 | 241\n",
      "0d:00:00:00 | #################### | 64 / 64 | 504 traces/s      \u001b[32m+1.662e+00\u001b[0m | 0d:00:00:35 | 267\n",
      "0d:00:00:00 | #################### | 64 / 64 | 978 traces/s     549e+00\u001b[0m | \u001b[1m\u001b[32m+1.549e+00\u001b[0m | \u001b[1m\u001b[32m0d:00:00:00\u001b[0m | 218\n",
      "0d:00:00:38 | 10,048    | +2.405e+00 | +2.405e+00 | +1.549e+00 | \u001b[31m+1.615e+00\u001b[0m | 0d:00:00:00 | 252                              \n"
     ]
    }
   ],
   "source": [
    "model.learn_inference_network(observation=[0, 0], early_stop_traces=10000)"
   ]
  },
  {
   "cell_type": "markdown",
   "metadata": {},
   "source": [
    "We now construct the posterior distribution using samples from inference compilation, using the trained inference network.\n",
    "\n",
    "A much smaller number of samples are enough because the inference network provides good proposals based on the given observations. We can see that the proposal distribution given by the inference network is doing a job much better than the prior, by plotting the posterior samples without the importance weights, for a selection of observations."
   ]
  },
  {
   "cell_type": "code",
   "execution_count": 30,
   "metadata": {},
   "outputs": [
    {
     "name": "stdout",
     "output_type": "stream",
     "text": [
      "0d:00:00:03 | ████████████████████ | 500 / 500 | 160 traces/s   \n"
     ]
    },
    {
     "data": {
      "image/png": "[encoded data removed]",
      "text/plain": [
       "<matplotlib.figure.Figure at 0x7fd9ffa5c048>"
      ]
     },
     "metadata": {},
     "output_type": "display_data"
    }
   ],
   "source": [
    "posterior_dist_unweighted = model.posterior_distribution(traces=500, inference_engine=pyprob.InferenceEngine.IMPORTANCE_SAMPLING_WITH_INFERENCE_NETWORK, observation=[-1,-2]).unweighted()\n",
    "n, bins, patches = plt.hist([float(posterior_dist_unweighted.sample()) for i in range(1000)], normed=1, alpha=0.75)"
   ]
  },
  {
   "cell_type": "code",
   "execution_count": 31,
   "metadata": {},
   "outputs": [
    {
     "name": "stdout",
     "output_type": "stream",
     "text": [
      "0d:00:00:03 | ████████████████████ | 500 / 500 | 158 traces/s   \n"
     ]
    },
    {
     "data": {
      "image/png": "[encoded data removed]",
      "text/plain": [
       "<matplotlib.figure.Figure at 0x7fd9ff766320>"
      ]
     },
     "metadata": {},
     "output_type": "display_data"
    }
   ],
   "source": [
    "posterior_dist_unweighted = model.posterior_distribution(traces=500, inference_engine=pyprob.InferenceEngine.IMPORTANCE_SAMPLING_WITH_INFERENCE_NETWORK, observation=[2,3]).unweighted()\n",
    "n, bins, patches = plt.hist([float(posterior_dist_unweighted.sample()) for i in range(1000)], normed=1, alpha=0.75)"
   ]
  },
  {
   "cell_type": "markdown",
   "metadata": {},
   "source": [
    "Finally, we plot the posterior for the observations `[8, 9]` and print its mean and standard deviation."
   ]
  },
  {
   "cell_type": "code",
   "execution_count": 32,
   "metadata": {},
   "outputs": [
    {
     "name": "stdout",
     "output_type": "stream",
     "text": [
      "0d:00:00:00 | ████████████████████ | 100 / 100 | 161 traces/s   \n",
      "Mean: Variable containing:\n",
      " 7.1489\n",
      "[torch.FloatTensor of size 1]\n",
      "\n",
      "Standard deviation: Variable containing:\n",
      " 0.8672\n",
      "[torch.FloatTensor of size 1]\n",
      "\n"
     ]
    },
    {
     "data": {
      "image/png": "[encoded data removed]",
      "text/plain": [
       "<matplotlib.figure.Figure at 0x7fd9ff6a4828>"
      ]
     },
     "metadata": {},
     "output_type": "display_data"
    }
   ],
   "source": [
    "posterior_dist = model.posterior_distribution(traces=100, inference_engine=pyprob.InferenceEngine.IMPORTANCE_SAMPLING_WITH_INFERENCE_NETWORK, observation=[8,9])\n",
    "n, bins, patches = plt.hist([float(posterior_dist.sample()) for i in range(1000)], normed=1, alpha=0.75)\n",
    "\n",
    "x = np.linspace(min(posterior_dist.values_numpy),max(posterior_dist.values_numpy),400)\n",
    "plt.plot(x, np.vectorize(correct_posterior)(x))\n",
    "\n",
    "print('Mean:', posterior_dist.mean)\n",
    "print('Standard deviation:', posterior_dist.stddev)"
   ]
  },
  {
   "cell_type": "code",
   "execution_count": null,
   "metadata": {
    "collapsed": true
   },
   "outputs": [],
   "source": []
  }
 ],
 "metadata": {
  "kernelspec": {
   "display_name": "Python 3",
   "language": "python",
   "name": "python3"
  },
  "language_info": {
   "codemirror_mode": {
    "name": "ipython",
    "version": 3
   },
   "file_extension": ".py",
   "mimetype": "text/x-python",
   "name": "python",
   "nbconvert_exporter": "python",
   "pygments_lexer": "ipython3",
   "version": "3.6.3"
  }
 },
 "nbformat": 4,
 "nbformat_minor": 2
}
