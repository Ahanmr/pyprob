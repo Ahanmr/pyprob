{
 "cells": [
  {
   "cell_type": "code",
   "execution_count": 1,
   "metadata": {},
   "outputs": [],
   "source": [
    "import pyprob\n",
    "from pyprob.distributions import Normal\n",
    "\n",
    "import numpy as np\n",
    "import math\n",
    "import matplotlib.pyplot as plt\n",
    "%matplotlib inline"
   ]
  },
  {
   "cell_type": "markdown",
   "metadata": {},
   "source": [
    "## Define a query as a regular Python function"
   ]
  },
  {
   "cell_type": "code",
   "execution_count": 2,
   "metadata": {},
   "outputs": [],
   "source": [
    "def gaussian(obs, sigma=math.sqrt(2), mu0=1, sigma0=math.sqrt(5)):\n",
    "    mu = pyprob.sample(Normal(mu0, sigma0))\n",
    "    mu = pyprob.sample(Normal(mu0, sigma0))\n",
    "    likelihood = Normal(mu, sigma)\n",
    "    for o in obs:\n",
    "        pyprob.observe(likelihood, o)\n",
    "    return mu"
   ]
  },
  {
   "cell_type": "code",
   "execution_count": 3,
   "metadata": {},
   "outputs": [
    {
     "data": {
      "text/plain": [
       "2.0099734544658356"
      ]
     },
     "execution_count": 3,
     "metadata": {},
     "output_type": "execute_result"
    }
   ],
   "source": [
    "gaussian([], 0.01, 2, 0.01)"
   ]
  },
  {
   "cell_type": "markdown",
   "metadata": {},
   "source": [
    "## Construct inference from query"
   ]
  },
  {
   "cell_type": "code",
   "execution_count": 4,
   "metadata": {},
   "outputs": [],
   "source": [
    "model = pyprob.Model(gaussian, default_observes=[1,2])"
   ]
  },
  {
   "cell_type": "markdown",
   "metadata": {},
   "source": [
    "A lazy prior_sample generator:"
   ]
  },
  {
   "cell_type": "code",
   "execution_count": 5,
   "metadata": {},
   "outputs": [
    {
     "data": {
      "text/plain": [
       "generator"
      ]
     },
     "execution_count": 5,
     "metadata": {},
     "output_type": "execute_result"
    }
   ],
   "source": [
    "s = model.prior_sample([7,9])\n",
    "type(s)"
   ]
  },
  {
   "cell_type": "code",
   "execution_count": 6,
   "metadata": {},
   "outputs": [
    {
     "data": {
      "text/plain": [
       "-2.3681773744694525"
      ]
     },
     "execution_count": 6,
     "metadata": {},
     "output_type": "execute_result"
    }
   ],
   "source": [
    "next(s)"
   ]
  },
  {
   "cell_type": "markdown",
   "metadata": {},
   "source": [
    "A collection of samples from prior:"
   ]
  },
  {
   "cell_type": "code",
   "execution_count": 7,
   "metadata": {},
   "outputs": [
    {
     "data": {
      "text/plain": [
       "[4.692724357476083,\n",
       " 0.04092220546944969,\n",
       " -0.9380904583102803,\n",
       " 0.7882243073781954,\n",
       " -0.4286282955472249,\n",
       " 0.028761021603248227,\n",
       " 5.889802347196291,\n",
       " 1.8635390405408467,\n",
       " 4.333378151181317,\n",
       " 3.6292336740514277]"
      ]
     },
     "execution_count": 7,
     "metadata": {},
     "output_type": "execute_result"
    }
   ],
   "source": [
    "model.prior_samples(10, [])"
   ]
  },
  {
   "cell_type": "markdown",
   "metadata": {},
   "source": [
    "Inspect traces from prior:"
   ]
  },
  {
   "cell_type": "code",
   "execution_count": 8,
   "metadata": {},
   "outputs": [
    {
     "data": {
      "text/plain": [
       "Trace(length:2, samples:[Sample(address_suffixed:12/gaussian.mu_Normal, distribution:Normal(prior_mean:1, prior_std:2.23606797749979, proposal_mean:None, proposal_std:None), value:[-1.803762435913086]), Sample(address_suffixed:28/gaussian.mu_Normal, distribution:Normal(prior_mean:1, prior_std:2.23606797749979, proposal_mean:None, proposal_std:None), value:[-0.4260556995868683])], observes_tensor:[[8.0], [9.0]], result:-0.4260557122384494, log_p:-42.49325953596162)"
      ]
     },
     "execution_count": 8,
     "metadata": {},
     "output_type": "execute_result"
    }
   ],
   "source": [
    "s = model.prior_trace([8, 9])\n",
    "next(s)"
   ]
  },
  {
   "cell_type": "code",
   "execution_count": 9,
   "metadata": {},
   "outputs": [
    {
     "data": {
      "text/plain": [
       "[Trace(length:2, samples:[Sample(address_suffixed:12/gaussian.mu_Normal, distribution:Normal(prior_mean:1, prior_std:2.23606797749979, proposal_mean:None, proposal_std:None), value:[3.028348922729492]), Sample(address_suffixed:28/gaussian.mu_Normal, distribution:Normal(prior_mean:1, prior_std:2.23606797749979, proposal_mean:None, proposal_std:None), value:[-2.194627046585083])], observes_tensor:[[8.0], [9.0]], result:-2.1946271638472656, log_p:-59.84354933381918),\n",
       " Trace(length:2, samples:[Sample(address_suffixed:12/gaussian.mu_Normal, distribution:Normal(prior_mean:1, prior_std:2.23606797749979, proposal_mean:None, proposal_std:None), value:[0.6867968440055847]), Sample(address_suffixed:28/gaussian.mu_Normal, distribution:Normal(prior_mean:1, prior_std:2.23606797749979, proposal_mean:None, proposal_std:None), value:[-0.9269425272941589])], observes_tensor:[[8.0], [9.0]], result:-0.926942527085509, log_p:-47.08964695145594),\n",
       " Trace(length:2, samples:[Sample(address_suffixed:12/gaussian.mu_Normal, distribution:Normal(prior_mean:1, prior_std:2.23606797749979, proposal_mean:None, proposal_std:None), value:[0.42841771245002747]), Sample(address_suffixed:28/gaussian.mu_Normal, distribution:Normal(prior_mean:1, prior_std:2.23606797749979, proposal_mean:None, proposal_std:None), value:[-5.257835388183594])], observes_tensor:[[8.0], [9.0]], result:-5.257835480900508, log_p:-97.29504280673171)]"
      ]
     },
     "execution_count": 9,
     "metadata": {},
     "output_type": "execute_result"
    }
   ],
   "source": [
    "model.prior_traces(3, [8, 9])"
   ]
  },
  {
   "cell_type": "markdown",
   "metadata": {},
   "source": [
    "## Inference with importance sampling"
   ]
  },
  {
   "cell_type": "code",
   "execution_count": 10,
   "metadata": {},
   "outputs": [
    {
     "name": "stdout",
     "output_type": "stream",
     "text": [
      "CPU times: user 1.62 s, sys: 8 ms, total: 1.63 s\n",
      "Wall time: 1.63 s\n"
     ]
    }
   ],
   "source": [
    "%time empirical_posterior = model.posterior_samples(10000, [8, 9])"
   ]
  },
  {
   "cell_type": "code",
   "execution_count": 11,
   "metadata": {},
   "outputs": [],
   "source": [
    "def true_posterior(x):\n",
    "    p = Normal(7.25, math.sqrt(1/1.2))\n",
    "    return math.exp(p.log_pdf(x))"
   ]
  },
  {
   "cell_type": "code",
   "execution_count": 12,
   "metadata": {},
   "outputs": [
    {
     "data": {
      "image/png": "[encoded data removed]",
      "text/plain": [
       "<matplotlib.figure.Figure at 0x7fb67e983c88>"
      ]
     },
     "metadata": {},
     "output_type": "display_data"
    }
   ],
   "source": [
    "n, bins, patches = plt.hist(empirical_posterior.values,bins=40,normed=True)"
   ]
  },
  {
   "cell_type": "code",
   "execution_count": 13,
   "metadata": {},
   "outputs": [
    {
     "data": {
      "text/plain": [
       "[<matplotlib.lines.Line2D at 0x7fb67e8c46d8>]"
      ]
     },
     "execution_count": 13,
     "metadata": {},
     "output_type": "execute_result"
    },
    {
     "data": {
      "image/png": "[encoded data removed]",
      "text/plain": [
       "<matplotlib.figure.Figure at 0x7fb67d8684a8>"
      ]
     },
     "metadata": {},
     "output_type": "display_data"
    }
   ],
   "source": [
    "n, bins, patches = plt.hist(empirical_posterior.values, bins=20,weights=empirical_posterior.weights)\n",
    "x = np.linspace(min(empirical_posterior.values),max(empirical_posterior.values),400)\n",
    "plt.plot(x, np.vectorize(true_posterior)(x))"
   ]
  },
  {
   "cell_type": "markdown",
   "metadata": {},
   "source": [
    "## Inference compilation"
   ]
  },
  {
   "cell_type": "code",
   "execution_count": 14,
   "metadata": {
    "scrolled": true
   },
   "outputs": [
    {
     "name": "stdout",
     "output_type": "stream",
     "text": [
      "────────┬─────────────┬───────┬─────────────────┬─────────────────\n",
      "        │ Train. time │ Trace │ Training loss   │ Valid. loss     \n",
      "────────┼─────────────┼───────┼─────────────────┼─────────────────\n",
      "Start   │ 0d:00:00:00 │ 0     │ +8.277748e+00   │ +7.890311e+00\n",
      "Best    │ 0d:00:00:02 │ 1,024 │ \u001b[1m\u001b[32m+6.026794e+00\u001b[0m   │ \u001b[1m\u001b[32m+5.473335e+00\u001b[0m\n",
      "Current │ 0d:00:00:02 │ 1,024 │ \u001b[31m+6.068153e+00  \u001b[0m │ \u001b[1m\u001b[32m+5.473335e+00 ▼\u001b[0m\n",
      "────────┴─────────────┴───────┴─────────────────┴─────────────────\n",
      "Training on CUDA, 114 traces/s\n",
      "Updating artifact on disk...                             \r"
     ]
    }
   ],
   "source": [
    "pyprob.set_cuda(False)\n",
    "model.learn_proposal(max_traces = 1000)"
   ]
  },
  {
   "cell_type": "markdown",
   "metadata": {},
   "source": [
    "## Inference with compiled sequential importance sampling"
   ]
  },
  {
   "cell_type": "code",
   "execution_count": 15,
   "metadata": {},
   "outputs": [
    {
     "name": "stdout",
     "output_type": "stream",
     "text": [
      "CPU times: user 2.74 s, sys: 12 ms, total: 2.75 s\n",
      "Wall time: 2.75 s\n"
     ]
    }
   ],
   "source": [
    "%time empirical_posterior = model.posterior_samples(1000, [8, 9])"
   ]
  },
  {
   "cell_type": "code",
   "execution_count": 16,
   "metadata": {},
   "outputs": [
    {
     "data": {
      "image/png": "[encoded data removed]",
      "text/plain": [
       "<matplotlib.figure.Figure at 0x7fb67df1c6d8>"
      ]
     },
     "metadata": {},
     "output_type": "display_data"
    }
   ],
   "source": [
    "n, bins, patches = plt.hist(empirical_posterior.values,bins=40,normed=True)"
   ]
  },
  {
   "cell_type": "code",
   "execution_count": 17,
   "metadata": {},
   "outputs": [
    {
     "data": {
      "text/plain": [
       "[<matplotlib.lines.Line2D at 0x7fb67dc30208>]"
      ]
     },
     "execution_count": 17,
     "metadata": {},
     "output_type": "execute_result"
    },
    {
     "data": {
      "image/png": "[encoded data removed]",
      "text/plain": [
       "<matplotlib.figure.Figure at 0x7fb67e4d4ac8>"
      ]
     },
     "metadata": {},
     "output_type": "display_data"
    }
   ],
   "source": [
    "n, bins, patches = plt.hist(empirical_posterior.values, bins=20,weights=empirical_posterior.weights)\n",
    "x = np.linspace(min(empirical_posterior.values),max(empirical_posterior.values),400)\n",
    "plt.plot(x, np.vectorize(true_posterior)(x))"
   ]
  }
 ],
 "metadata": {
  "kernelspec": {
   "display_name": "Python 3",
   "language": "python",
   "name": "python3"
  },
  "language_info": {
   "codemirror_mode": {
    "name": "ipython",
    "version": 3
   },
   "file_extension": ".py",
   "mimetype": "text/x-python",
   "name": "python",
   "nbconvert_exporter": "python",
   "pygments_lexer": "ipython3",
   "version": "3.6.3"
  }
 },
 "nbformat": 4,
 "nbformat_minor": 2
}
