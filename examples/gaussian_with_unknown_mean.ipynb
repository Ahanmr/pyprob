{
 "cells": [
  {
   "cell_type": "code",
   "execution_count": 1,
   "metadata": {},
   "outputs": [],
   "source": [
    "import pyprob\n",
    "from pyprob.distributions import Normal\n",
    "\n",
    "import numpy as np\n",
    "import math\n",
    "import matplotlib.pyplot as plt\n",
    "%matplotlib inline"
   ]
  },
  {
   "cell_type": "markdown",
   "metadata": {},
   "source": [
    "## Define a query as a regular Python function"
   ]
  },
  {
   "cell_type": "code",
   "execution_count": 2,
   "metadata": {
    "collapsed": true
   },
   "outputs": [],
   "source": [
    "def gaussian(obs, sigma=math.sqrt(2), mu0=1, sigma0=math.sqrt(5)):\n",
    "    mu = pyprob.sample(Normal(mu0, sigma0))\n",
    "    mu = pyprob.sample(Normal(mu0, sigma0))\n",
    "    likelihood = Normal(mu, sigma)\n",
    "    for o in obs:\n",
    "        pyprob.observe(likelihood, o)\n",
    "    return mu"
   ]
  },
  {
   "cell_type": "code",
   "execution_count": 3,
   "metadata": {},
   "outputs": [
    {
     "data": {
      "text/plain": [
       "1.98665415548964"
      ]
     },
     "execution_count": 3,
     "metadata": {},
     "output_type": "execute_result"
    }
   ],
   "source": [
    "gaussian([], 0.01, 2, 0.01)"
   ]
  },
  {
   "cell_type": "markdown",
   "metadata": {},
   "source": [
    "## Construct inference from query"
   ]
  },
  {
   "cell_type": "code",
   "execution_count": 4,
   "metadata": {},
   "outputs": [],
   "source": [
    "model = pyprob.Model(gaussian, default_observes=[1,2])"
   ]
  },
  {
   "cell_type": "markdown",
   "metadata": {},
   "source": [
    "A lazy prior_sample generator:"
   ]
  },
  {
   "cell_type": "code",
   "execution_count": 5,
   "metadata": {},
   "outputs": [
    {
     "data": {
      "text/plain": [
       "generator"
      ]
     },
     "execution_count": 5,
     "metadata": {},
     "output_type": "execute_result"
    }
   ],
   "source": [
    "s = model.prior_sample([7,9])\n",
    "type(s)"
   ]
  },
  {
   "cell_type": "code",
   "execution_count": 6,
   "metadata": {},
   "outputs": [
    {
     "data": {
      "text/plain": [
       "-0.0890509098832144"
      ]
     },
     "execution_count": 6,
     "metadata": {},
     "output_type": "execute_result"
    }
   ],
   "source": [
    "next(s)"
   ]
  },
  {
   "cell_type": "markdown",
   "metadata": {},
   "source": [
    "A collection of samples from prior:"
   ]
  },
  {
   "cell_type": "code",
   "execution_count": 7,
   "metadata": {},
   "outputs": [
    {
     "data": {
      "text/plain": [
       "[5.0955183732933245,\n",
       " -0.7598746408265624,\n",
       " 1.4241932692066634,\n",
       " 3.1988785043074857,\n",
       " 3.5813024618488067,\n",
       " -1.0846075546298612,\n",
       " 3.836177618582931,\n",
       " -1.5645995379861417,\n",
       " 1.5062776337261008,\n",
       " -0.3304239675397487]"
      ]
     },
     "execution_count": 7,
     "metadata": {},
     "output_type": "execute_result"
    }
   ],
   "source": [
    "model.prior_samples(10, [])"
   ]
  },
  {
   "cell_type": "markdown",
   "metadata": {},
   "source": [
    "Inspect traces from prior:"
   ]
  },
  {
   "cell_type": "code",
   "execution_count": 8,
   "metadata": {},
   "outputs": [
    {
     "data": {
      "text/plain": [
       "Trace(length:2, samples:[Sample(address_suffixed:2/gaussian_Normal, distribution:Normal(prior_mean:1, prior_std:2.23606797749979, proposal_mean:None, proposal_std:None), value:[-0.5195187926292419]), Sample(address_suffixed:3/gaussian_Normal, distribution:Normal(prior_mean:1, prior_std:2.23606797749979, proposal_mean:None, proposal_std:None), value:[-1.9881068468093872])], observes_tensor:[[8.0], [9.0]], result:-1.9881069001402123, log_p:-57.65621742135366)"
      ]
     },
     "execution_count": 8,
     "metadata": {},
     "output_type": "execute_result"
    }
   ],
   "source": [
    "s = model.prior_trace([8, 9])\n",
    "next(s)"
   ]
  },
  {
   "cell_type": "code",
   "execution_count": 9,
   "metadata": {},
   "outputs": [
    {
     "data": {
      "text/plain": [
       "[Trace(length:2, samples:[Sample(address_suffixed:2/gaussian_Normal, distribution:Normal(prior_mean:1, prior_std:2.23606797749979, proposal_mean:None, proposal_std:None), value:[-1.5728801488876343]), Sample(address_suffixed:3/gaussian_Normal, distribution:Normal(prior_mean:1, prior_std:2.23606797749979, proposal_mean:None, proposal_std:None), value:[-1.7213577032089233])], observes_tensor:[[8.0], [9.0]], result:-1.7213576464587024, log_p:-54.89410031537919),\n",
       " Trace(length:2, samples:[Sample(address_suffixed:2/gaussian_Normal, distribution:Normal(prior_mean:1, prior_std:2.23606797749979, proposal_mean:None, proposal_std:None), value:[-0.5293397903442383]), Sample(address_suffixed:3/gaussian_Normal, distribution:Normal(prior_mean:1, prior_std:2.23606797749979, proposal_mean:None, proposal_std:None), value:[2.188663959503174])], observes_tensor:[[8.0], [9.0]], result:2.188663983878542, log_p:-22.572505401165227),\n",
       " Trace(length:2, samples:[Sample(address_suffixed:2/gaussian_Normal, distribution:Normal(prior_mean:1, prior_std:2.23606797749979, proposal_mean:None, proposal_std:None), value:[-1.410211443901062]), Sample(address_suffixed:3/gaussian_Normal, distribution:Normal(prior_mean:1, prior_std:2.23606797749979, proposal_mean:None, proposal_std:None), value:[2.3620243072509766])], observes_tensor:[[8.0], [9.0]], result:2.362024258062178, log_p:-21.493397351277867)]"
      ]
     },
     "execution_count": 9,
     "metadata": {},
     "output_type": "execute_result"
    }
   ],
   "source": [
    "model.prior_traces(3, [8, 9])"
   ]
  },
  {
   "cell_type": "markdown",
   "metadata": {},
   "source": [
    "## Inference with importance sampling"
   ]
  },
  {
   "cell_type": "code",
   "execution_count": 10,
   "metadata": {},
   "outputs": [
    {
     "name": "stdout",
     "output_type": "stream",
     "text": [
      "CPU times: user 5.7 s, sys: 252 ms, total: 5.95 s\n",
      "Wall time: 5.95 s\n"
     ]
    }
   ],
   "source": [
    "%time empirical_posterior = model.posterior_samples(10000, [8, 9])"
   ]
  },
  {
   "cell_type": "code",
   "execution_count": 11,
   "metadata": {
    "collapsed": true
   },
   "outputs": [],
   "source": [
    "def true_posterior(x):\n",
    "    p = Normal(7.25, math.sqrt(1/1.2))\n",
    "    return math.exp(p.log_pdf(x))"
   ]
  },
  {
   "cell_type": "code",
   "execution_count": 12,
   "metadata": {},
   "outputs": [
    {
     "data": {
      "image/png": "[encoded data removed]",
      "text/plain": [
       "<matplotlib.figure.Figure at 0x7f0e8c77a0f0>"
      ]
     },
     "metadata": {},
     "output_type": "display_data"
    }
   ],
   "source": [
    "n, bins, patches = plt.hist(empirical_posterior.values,bins=40,normed=True)"
   ]
  },
  {
   "cell_type": "code",
   "execution_count": 13,
   "metadata": {},
   "outputs": [
    {
     "data": {
      "text/plain": [
       "[<matplotlib.lines.Line2D at 0x7f0e8c52f748>]"
      ]
     },
     "execution_count": 13,
     "metadata": {},
     "output_type": "execute_result"
    },
    {
     "data": {
      "image/png": "[encoded data removed]",
      "text/plain": [
       "<matplotlib.figure.Figure at 0x7f0e8c77ab38>"
      ]
     },
     "metadata": {},
     "output_type": "display_data"
    }
   ],
   "source": [
    "n, bins, patches = plt.hist(empirical_posterior.values, bins=20,weights=empirical_posterior.weights)\n",
    "x = np.linspace(min(empirical_posterior.values),max(empirical_posterior.values),400)\n",
    "plt.plot(x, np.vectorize(true_posterior)(x))"
   ]
  },
  {
   "cell_type": "markdown",
   "metadata": {},
   "source": [
    "## Inference compilation"
   ]
  },
  {
   "cell_type": "code",
   "execution_count": 14,
   "metadata": {},
   "outputs": [
    {
     "name": "stdout",
     "output_type": "stream",
     "text": [
      "────────┬─────────────┬───────┬─────────────────┬─────────────────\n",
      "        │ Train. time │ Trace │ Training loss   │ Valid. loss     \n",
      "────────┼─────────────┼───────┼─────────────────┼─────────────────\n",
      "Start   │ 0d:00:00:00 │ 0     │ +9.044794e+00   │ +8.007381e+00\n",
      "Best    │ 0d:00:00:07 │ 2,304 │ \u001b[1m\u001b[32m+5.032424e+00\u001b[0m   │ \u001b[1m\u001b[32m+4.898139e+00\u001b[0m\n",
      "Current │ 0d:00:00:07 │ 2,304 │ \u001b[1m\u001b[32m+5.032424e+00 ▼\u001b[0m │ \u001b[1m\u001b[32m+4.898139e+00 ▼\u001b[0m\n",
      "────────┴─────────────┴───────┴─────────────────┴─────────────────\n",
      "Training on CPU, 71  traces/s\n",
      "Stopped\n"
     ]
    }
   ],
   "source": [
    "pyprob.set_cuda(False)\n",
    "model.learn_proposal()"
   ]
  },
  {
   "cell_type": "markdown",
   "metadata": {},
   "source": [
    "## Inference with compiled sequential importance sampling"
   ]
  },
  {
   "cell_type": "code",
   "execution_count": 15,
   "metadata": {},
   "outputs": [
    {
     "name": "stdout",
     "output_type": "stream",
     "text": [
      "CPU times: user 23 s, sys: 7.61 s, total: 30.6 s\n",
      "Wall time: 7.66 s\n"
     ]
    }
   ],
   "source": [
    "%time empirical_posterior = model.posterior_samples(1000, [8, 9])"
   ]
  },
  {
   "cell_type": "code",
   "execution_count": 17,
   "metadata": {},
   "outputs": [
    {
     "data": {
      "image/png": "[encoded data removed]",
      "text/plain": [
       "<matplotlib.figure.Figure at 0x7f0e8c329128>"
      ]
     },
     "metadata": {},
     "output_type": "display_data"
    }
   ],
   "source": [
    "n, bins, patches = plt.hist(empirical_posterior.values,bins=40,normed=True)"
   ]
  },
  {
   "cell_type": "code",
   "execution_count": 19,
   "metadata": {},
   "outputs": [
    {
     "data": {
      "text/plain": [
       "[<matplotlib.lines.Line2D at 0x7f0e8bb33390>]"
      ]
     },
     "execution_count": 19,
     "metadata": {},
     "output_type": "execute_result"
    },
    {
     "data": {
      "image/png": "[encoded data removed]",
      "text/plain": [
       "<matplotlib.figure.Figure at 0x7f0e8c0001d0>"
      ]
     },
     "metadata": {},
     "output_type": "display_data"
    }
   ],
   "source": [
    "n, bins, patches = plt.hist(empirical_posterior.values, bins=20,weights=empirical_posterior.weights)\n",
    "x = np.linspace(min(empirical_posterior.values),max(empirical_posterior.values),400)\n",
    "plt.plot(x, np.vectorize(true_posterior)(x))"
   ]
  }
 ],
 "metadata": {
  "kernelspec": {
   "display_name": "Python 3",
   "language": "python",
   "name": "python3"
  },
  "language_info": {
   "codemirror_mode": {
    "name": "ipython",
    "version": 3
   },
   "file_extension": ".py",
   "mimetype": "text/x-python",
   "name": "python",
   "nbconvert_exporter": "python",
   "pygments_lexer": "ipython3",
   "version": "3.6.1"
  }
 },
 "nbformat": 4,
 "nbformat_minor": 2
}
