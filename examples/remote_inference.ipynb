{
 "cells": [
  {
   "cell_type": "code",
   "execution_count": 1,
   "metadata": {},
   "outputs": [],
   "source": [
    "import pyprob\n",
    "pyprob.set_cuda(True)"
   ]
  },
  {
   "cell_type": "code",
   "execution_count": 2,
   "metadata": {},
   "outputs": [],
   "source": [
    "inference = pyprob.RemoteModel()"
   ]
  },
  {
   "cell_type": "code",
   "execution_count": 7,
   "metadata": {},
   "outputs": [
    {
     "name": "stdout",
     "output_type": "stream",
     "text": [
      "────────┬─────────────┬────────┬─────────────────┬─────────────────\n",
      "        │ Train. time │  Trace │ Training loss   │ Valid. loss     \n",
      "────────┼─────────────┼────────┼─────────────────┼─────────────────\n",
      "Start   │ 0d:00:00:14 │  9,216 │ +1.839490e+00   │ +1.953213e+00\n",
      "Best    │ 0d:00:00:29 │ 20,480 │ \u001b[1m\u001b[32m+1.672534e+00\u001b[0m   │ \u001b[1m\u001b[32m+1.746044e+00\u001b[0m\n",
      "Current │ 0d:00:00:30 │ 20,736 │ \u001b[32m+1.711367e+00  \u001b[0m │ \u001b[1m\u001b[32m+1.746044e+00 ▼\u001b[0m\n",
      "────────┴─────────────┴────────┴─────────────────┴─────────────────\n",
      "Training on CUDA, 160 traces/s\n",
      "\u001b[1m\u001b[33mProtocol: zmq.REQ socket connected to server tcp://127.0.0.1:5555\u001b[0m\n",
      "\u001b[1m\u001b[33mProtocol: zmq.REQ socket disconnected\u001b[0m\n",
      "Stopped\n"
     ]
    }
   ],
   "source": [
    "inference.learn_proposal()"
   ]
  },
  {
   "cell_type": "code",
   "execution_count": 8,
   "metadata": {},
   "outputs": [
    {
     "name": "stdout",
     "output_type": "stream",
     "text": [
      "TPS      │ Max. TPS │ Total traces\n",
      "─────────┼──────────┼─────────────\n",
      "153      │ 181      │ 100      \r\n",
      "Stopped\n",
      "\u001b[1m\u001b[33mProtocol: zmq.REP socket disconnected\u001b[0m\n"
     ]
    }
   ],
   "source": [
    "inference.infer()"
   ]
  },
  {
   "cell_type": "code",
   "execution_count": null,
   "metadata": {
    "collapsed": true
   },
   "outputs": [],
   "source": []
  }
 ],
 "metadata": {
  "kernelspec": {
   "display_name": "Python 3",
   "language": "python",
   "name": "python3"
  },
  "language_info": {
   "codemirror_mode": {
    "name": "ipython",
    "version": 3
   },
   "file_extension": ".py",
   "mimetype": "text/x-python",
   "name": "python",
   "nbconvert_exporter": "python",
   "pygments_lexer": "ipython3",
   "version": "3.6.1"
  }
 },
 "nbformat": 4,
 "nbformat_minor": 2
}
