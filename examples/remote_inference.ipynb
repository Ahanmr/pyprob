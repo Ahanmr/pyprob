{
 "cells": [
  {
   "cell_type": "code",
   "execution_count": 1,
   "metadata": {
    "collapsed": true
   },
   "outputs": [],
   "source": [
    "import pyprob\n",
    "pyprob.set_cuda(True)"
   ]
  },
  {
   "cell_type": "code",
   "execution_count": 2,
   "metadata": {},
   "outputs": [
    {
     "name": "stdout",
     "output_type": "stream",
     "text": [
      "\u001b[1m\u001b[33mProtocol: zmq.REQ socket connected to server tcp://127.0.0.1:5555\u001b[0m\n",
      "\u001b[1m\u001b[34mCreating new artifact...\u001b[0m\n",
      "\u001b[1m\u001b[35mPolymorphing, new distribution       : Normal\u001b[0m\n",
      "\u001b[1m\u001b[35mPolymorphing, new layers for address : S6_Normal\u001b[0m\n",
      "\u001b[1m\u001b[35mPolymorphing, new trainable params   : 5,098,562\u001b[0m\n",
      "\u001b[1m\u001b[33mProtocol: zmq.REQ socket disconnected\u001b[0m\n"
     ]
    }
   ],
   "source": [
    "inference = pyprob.InferenceRemote()"
   ]
  },
  {
   "cell_type": "code",
   "execution_count": 3,
   "metadata": {},
   "outputs": [
    {
     "name": "stdout",
     "output_type": "stream",
     "text": [
      "────────┬─────────────┬───────┬─────────────────┬─────────────────\n",
      "        │ Train. time │ Trace │ Training loss   │ Valid. loss     \n",
      "────────┼─────────────┼───────┼─────────────────┼─────────────────\n",
      "Start   │ 0d:00:00:00 │ 0     │ +1.345379e+05   │ +3.698973e+03\n",
      "Best    │ 0d:00:00:06 │ 2,176 │ \u001b[1m\u001b[32m+1.621930e+01\u001b[0m   │ \u001b[1m\u001b[32m+1.950107e+01\u001b[0m\n",
      "Current │ 0d:00:00:06 │ 2,496 │ \u001b[31m+2.055591e+01  \u001b[0m │ \u001b[1m\u001b[32m+1.950107e+01 ▼\u001b[0m\n",
      "────────┴─────────────┴───────┴─────────────────┴─────────────────\n",
      "Training on CUDA, 474 traces/s\n",
      "Stopped\n",
      "\u001b[1m\u001b[33mProtocol: zmq.REQ socket disconnected\u001b[0m\n"
     ]
    }
   ],
   "source": [
    "inference.compile()"
   ]
  },
  {
   "cell_type": "code",
   "execution_count": null,
   "metadata": {},
   "outputs": [
    {
     "name": "stdout",
     "output_type": "stream",
     "text": [
      "TPS      │ Max. TPS │ Total traces\n",
      "─────────┼──────────┼─────────────\n",
      "83       │ 142      │ 100      \r\n"
     ]
    }
   ],
   "source": [
    "inference.infer()"
   ]
  },
  {
   "cell_type": "code",
   "execution_count": null,
   "metadata": {
    "collapsed": true
   },
   "outputs": [],
   "source": []
  }
 ],
 "metadata": {
  "kernelspec": {
   "display_name": "Python 3",
   "language": "python",
   "name": "python3"
  },
  "language_info": {
   "codemirror_mode": {
    "name": "ipython",
    "version": 3
   },
   "file_extension": ".py",
   "mimetype": "text/x-python",
   "name": "python",
   "nbconvert_exporter": "python",
   "pygments_lexer": "ipython3",
   "version": "3.6.1"
  }
 },
 "nbformat": 4,
 "nbformat_minor": 2
}
