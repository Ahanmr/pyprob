{
 "cells": [
  {
   "cell_type": "code",
   "execution_count": 5,
   "metadata": {
    "collapsed": true
   },
   "outputs": [],
   "source": [
    "import pyprob\n",
    "from pyprob import ModelRemote\n",
    "from pyprob.distributions import Normal\n",
    "\n",
    "import torch\n",
    "import numpy as np\n",
    "import math\n",
    "import matplotlib.pyplot as plt\n",
    "%matplotlib inline"
   ]
  },
  {
   "cell_type": "markdown",
   "metadata": {},
   "source": [
    "Run the C++ model in cpproblight:\n",
    "```\n",
    "docker run --rm -it --net=host probprog/cpproblight /code/cpproblight/build/cpproblight/test_gum tcp://*:5555\n",
    "```\n"
   ]
  },
  {
   "cell_type": "code",
   "execution_count": 2,
   "metadata": {},
   "outputs": [
    {
     "name": "stdout",
     "output_type": "stream",
     "text": [
      "Protocol (Python): zmq.REQ socket connected to server tcp://127.0.0.1:5555\n",
      "Protocol (Python): this system        : \u001b[32mpyprob 0.10.0.dev11\u001b[0m\n",
      "Protocol (Python): connected to system: \u001b[32mcpproblight 0.1.0 (HEAD:4b93e48)\u001b[0m\n",
      "Protocol (Python): model name         : \u001b[1m\u001b[32mGaussian with unknown mean C++\u001b[0m\n"
     ]
    }
   ],
   "source": [
    "gaussian_with_unknown_mean_cpp = ModelRemote('tcp://127.0.0.1:5555')\n",
    "\n",
    "\n",
    "def correct_posterior(x):\n",
    "    p = Normal(7.25, math.sqrt(1/1.2))\n",
    "    return math.exp(p.log_prob(x))"
   ]
  },
  {
   "cell_type": "code",
   "execution_count": 3,
   "metadata": {},
   "outputs": [
    {
     "data": {
      "image/png": "[encoded data removed]",
      "text/plain": [
       "<matplotlib.figure.Figure at 0x7eff7e4726a0>"
      ]
     },
     "metadata": {},
     "output_type": "display_data"
    }
   ],
   "source": [
    "prior_dist = gaussian_with_unknown_mean_cpp.prior_distribution(samples=1000)\n",
    "n, bins, patches = plt.hist([float(prior_dist.sample()) for i in range(1000)], normed=1, alpha=0.75)"
   ]
  },
  {
   "cell_type": "markdown",
   "metadata": {},
   "source": [
    "# Importance sampling"
   ]
  },
  {
   "cell_type": "code",
   "execution_count": 6,
   "metadata": {},
   "outputs": [
    {
     "data": {
      "text/plain": [
       "[<matplotlib.lines.Line2D at 0x7eff247024e0>]"
      ]
     },
     "execution_count": 6,
     "metadata": {},
     "output_type": "execute_result"
    },
    {
     "data": {
      "image/png": "[encoded data removed]",
      "text/plain": [
       "<matplotlib.figure.Figure at 0x7eff27075588>"
      ]
     },
     "metadata": {},
     "output_type": "display_data"
    }
   ],
   "source": [
    "posterior_dist = gaussian_with_unknown_mean_cpp.posterior_distribution(samples=10000, observation=[8,9])\n",
    "n, bins, patches = plt.hist([float(posterior_dist.sample()) for i in range(1000)], normed=1, alpha=0.75)\n",
    "\n",
    "x = np.linspace(min(posterior_dist.values_numpy),max(posterior_dist.values_numpy),400)\n",
    "plt.plot(x, np.vectorize(correct_posterior)(x))"
   ]
  },
  {
   "cell_type": "markdown",
   "metadata": {},
   "source": [
    "# Inference compilation"
   ]
  },
  {
   "cell_type": "code",
   "execution_count": 7,
   "metadata": {},
   "outputs": [
    {
     "name": "stdout",
     "output_type": "stream",
     "text": [
      "Creating new inference network...\n",
      "Polymorphing, new layers for address: [forward(xt::xarray_container<xt::uvector<double, std::allocator<double> >, (xt::layout_type)1, xt::svector<unsigned long, 4ul, std::allocator<unsigned long>, true>, xt::xtensor_expression_tag>)+0x137]_Normal\n",
      "Train. time | Trace     | Init. loss | Max. loss  | Min. loss  | Curr. loss | T.since min | Traces/sec\n",
      "0d:00:00:22 | 5,056     | +2.493e+00 | +2.493e+00 | +1.428e+00 | \u001b[31m+1.507e+00\u001b[0m | 0d:00:00:08 | 229\u001b[1m\u001b[32m0d:00:00:00\u001b[0m | 229\n"
     ]
    }
   ],
   "source": [
    "gaussian_with_unknown_mean_cpp.learn_inference_network(observation=[0, 0], early_stop_traces=5000)"
   ]
  },
  {
   "cell_type": "code",
   "execution_count": 8,
   "metadata": {},
   "outputs": [
    {
     "data": {
      "text/plain": [
       "[<matplotlib.lines.Line2D at 0x7eff1f4af048>]"
      ]
     },
     "execution_count": 8,
     "metadata": {},
     "output_type": "execute_result"
    },
    {
     "data": {
      "image/png": "[encoded data removed]",
      "text/plain": [
       "<matplotlib.figure.Figure at 0x7eff7c316550>"
      ]
     },
     "metadata": {},
     "output_type": "display_data"
    }
   ],
   "source": [
    "posterior_dist = gaussian_with_unknown_mean_cpp.posterior_distribution(samples=1000, use_inference_network=True, observation=[8,9])\n",
    "n, bins, patches = plt.hist([float(posterior_dist.sample()) for i in range(1000)], normed=1, alpha=0.75)\n",
    "\n",
    "x = np.linspace(min(posterior_dist.values_numpy),max(posterior_dist.values_numpy),400)\n",
    "plt.plot(x, np.vectorize(correct_posterior)(x))"
   ]
  },
  {
   "cell_type": "code",
   "execution_count": null,
   "metadata": {
    "collapsed": true
   },
   "outputs": [],
   "source": []
  }
 ],
 "metadata": {
  "kernelspec": {
   "display_name": "Python 3",
   "language": "python",
   "name": "python3"
  },
  "language_info": {
   "codemirror_mode": {
    "name": "ipython",
    "version": 3
   },
   "file_extension": ".py",
   "mimetype": "text/x-python",
   "name": "python",
   "nbconvert_exporter": "python",
   "pygments_lexer": "ipython3",
   "version": "3.6.3"
  }
 },
 "nbformat": 4,
 "nbformat_minor": 2
}
