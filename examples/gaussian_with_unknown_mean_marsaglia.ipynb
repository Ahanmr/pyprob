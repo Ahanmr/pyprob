{
 "cells": [
  {
   "cell_type": "code",
   "execution_count": 1,
   "metadata": {
    "collapsed": true
   },
   "outputs": [],
   "source": [
    "import pyprob\n",
    "from pyprob import Model\n",
    "from pyprob.distributions import Normal, Uniform\n",
    "\n",
    "import torch\n",
    "import numpy as np\n",
    "import math\n",
    "import matplotlib.pyplot as plt\n",
    "%matplotlib inline"
   ]
  },
  {
   "cell_type": "markdown",
   "metadata": {},
   "source": [
    "# Define model\n",
    "\n",
    "First, we define the model as a probabilistic program inheriting from `pyprob.Model`. Models inherit from `torch.nn.Module` and can be potentially trained with gradient-based optimization (not covered in this example).\n",
    "\n",
    "The `forward` function can have any number and type of arguments as needed. \n",
    "\n",
    "**Important:** For running posterior inference inference compilation, it is expected that `forward` has an argument called `observation` with which the observations are given to the model."
   ]
  },
  {
   "cell_type": "code",
   "execution_count": 2,
   "metadata": {
    "collapsed": true
   },
   "outputs": [],
   "source": [
    "# http://www.robots.ox.ac.uk/~fwood/assets/pdf/Wood-AISTATS-2014.pdf\n",
    "class GaussianWithUnknownMeanMarsaglia(Model):\n",
    "    def __init__(self, prior_mean=1, prior_stddev=math.sqrt(5), likelihood_stddev=math.sqrt(2)):\n",
    "        self.prior_mean = prior_mean\n",
    "        self.prior_stddev = prior_stddev\n",
    "        self.likelihood_stddev = likelihood_stddev\n",
    "        super().__init__('Gaussian with unknown mean (Marsaglia)')\n",
    "\n",
    "    def marsaglia(self, mean, stddev):\n",
    "        uniform = Uniform(-1, 1)\n",
    "        s = 1\n",
    "        while float(s) >= 1:\n",
    "            x = pyprob.sample(uniform)\n",
    "            y = pyprob.sample(uniform)\n",
    "            s = x*x + y*y\n",
    "        return mean + stddev * (x * torch.sqrt(-2 * torch.log(s) / s))\n",
    "\n",
    "    def forward(self, observation=[]):\n",
    "        mu = self.marsaglia(self.prior_mean, self.prior_stddev)\n",
    "        likelihood = Normal(mu, self.likelihood_stddev)\n",
    "        for o in observation:\n",
    "            pyprob.observe(likelihood, o)\n",
    "        return mu\n",
    "\n",
    "model = GaussianWithUnknownMeanMarsaglia()\n",
    "\n",
    "def correct_posterior(x):\n",
    "    p = Normal(7.25, math.sqrt(1/1.2))\n",
    "    return math.exp(p.log_prob(x))"
   ]
  },
  {
   "cell_type": "markdown",
   "metadata": {},
   "source": [
    "# Test the prior\n",
    "\n",
    "We inspect the prior distribution to see if it behaves in the way we intended. First we construct an `Empirical` distribution with forward samples from the model. \n",
    "\n",
    "Note: Any arguments, besides `samples`, given to `prior_distribution` will be forwarded to the model's `forward` function."
   ]
  },
  {
   "cell_type": "code",
   "execution_count": 3,
   "metadata": {},
   "outputs": [
    {
     "name": "stdout",
     "output_type": "stream",
     "text": [
      "0d:00:00:02 | ████████████████████ | 1000 / 1000 | 473 traces/s \n"
     ]
    }
   ],
   "source": [
    "prior_dist = model.prior_distribution(samples=1000)"
   ]
  },
  {
   "cell_type": "markdown",
   "metadata": {},
   "source": [
    "We can plot a historgram of these samples that are held by the `Empirical` distribution."
   ]
  },
  {
   "cell_type": "code",
   "execution_count": 4,
   "metadata": {},
   "outputs": [
    {
     "data": {
      "image/png": "[encoded data removed]",
      "text/plain": [
       "<matplotlib.figure.Figure at 0x7f5770750438>"
      ]
     },
     "metadata": {},
     "output_type": "display_data"
    }
   ],
   "source": [
    "n, bins, patches = plt.hist(prior_dist.values_numpy, normed=1, alpha=0.75)"
   ]
  },
  {
   "cell_type": "markdown",
   "metadata": {},
   "source": [
    "We can also `sample` from the `Empirical` distribution."
   ]
  },
  {
   "cell_type": "code",
   "execution_count": 5,
   "metadata": {},
   "outputs": [
    {
     "name": "stdout",
     "output_type": "stream",
     "text": [
      "Variable containing:\n",
      " 0.7250\n",
      "[torch.FloatTensor of size 1]\n",
      "\n"
     ]
    }
   ],
   "source": [
    "print(prior_dist.sample())"
   ]
  },
  {
   "cell_type": "markdown",
   "metadata": {},
   "source": [
    "# Posterior inference with importance sampling\n",
    "\n",
    "For a given set of observations, we can get samples from the posterior distribution."
   ]
  },
  {
   "cell_type": "code",
   "execution_count": 7,
   "metadata": {},
   "outputs": [
    {
     "name": "stdout",
     "output_type": "stream",
     "text": [
      "0d:00:00:02 | ████████████████████ | 1000 / 1000 | 375 traces/s \n"
     ]
    }
   ],
   "source": [
    "posterior_dist = model.posterior_distribution(samples=1000, observation=[8,9])"
   ]
  },
  {
   "cell_type": "markdown",
   "metadata": {},
   "source": [
    "Regular importance sampling uses proposals from the prior distribution. We can see this by plotting the histogram of the posterior distribution without using the importance weights. As expected, this is the same with the prior distribution."
   ]
  },
  {
   "cell_type": "code",
   "execution_count": 8,
   "metadata": {},
   "outputs": [
    {
     "data": {
      "image/png": "[encoded data removed]",
      "text/plain": [
       "<matplotlib.figure.Figure at 0x7f577067a860>"
      ]
     },
     "metadata": {},
     "output_type": "display_data"
    }
   ],
   "source": [
    "posterior_dist_unweighted = posterior_dist.unweighted()\n",
    "n, bins, patches = plt.hist([float(posterior_dist_unweighted.sample()) for i in range(1000)], normed=1, alpha=0.75)"
   ]
  },
  {
   "cell_type": "markdown",
   "metadata": {},
   "source": [
    "When we do use the weights, we end up with the correct posterior distribution. The following shows the sampled posterior with the correct posterior (orange curve)."
   ]
  },
  {
   "cell_type": "code",
   "execution_count": 9,
   "metadata": {},
   "outputs": [
    {
     "data": {
      "text/plain": [
       "[<matplotlib.lines.Line2D at 0x7f576b5b4ef0>]"
      ]
     },
     "execution_count": 9,
     "metadata": {},
     "output_type": "execute_result"
    },
    {
     "data": {
      "image/png": "[encoded data removed]",
      "text/plain": [
       "<matplotlib.figure.Figure at 0x7f57c4172ef0>"
      ]
     },
     "metadata": {},
     "output_type": "display_data"
    }
   ],
   "source": [
    "n, bins, patches = plt.hist([float(posterior_dist.sample()) for i in range(1000)], normed=1, alpha=0.75)\n",
    "x = np.linspace(min(posterior_dist.values_numpy),max(posterior_dist.values_numpy),400)\n",
    "plt.plot(x, np.vectorize(correct_posterior)(x))"
   ]
  },
  {
   "cell_type": "markdown",
   "metadata": {},
   "source": [
    "In practice, it is advised to use methods of the `Empirical` posterior distribution instead of dealing with the weights directly, which ensures that the weights are used in the correct way.\n",
    "\n",
    "For instance, we can get samples from the correct posterior, compute its mean and standard deviation, and evaluate expectations of a function under the distribution."
   ]
  },
  {
   "cell_type": "code",
   "execution_count": 10,
   "metadata": {},
   "outputs": [
    {
     "name": "stdout",
     "output_type": "stream",
     "text": [
      "Variable containing:\n",
      " 7.7347\n",
      "[torch.FloatTensor of size 1]\n",
      "\n"
     ]
    }
   ],
   "source": [
    "print(posterior_dist.sample())"
   ]
  },
  {
   "cell_type": "code",
   "execution_count": 11,
   "metadata": {},
   "outputs": [
    {
     "name": "stdout",
     "output_type": "stream",
     "text": [
      "Variable containing:\n",
      " 7.0849\n",
      "[torch.FloatTensor of size 1]\n",
      "\n"
     ]
    }
   ],
   "source": [
    "print(posterior_dist.mean)"
   ]
  },
  {
   "cell_type": "code",
   "execution_count": 12,
   "metadata": {},
   "outputs": [
    {
     "name": "stdout",
     "output_type": "stream",
     "text": [
      "Variable containing:\n",
      " 0.7868\n",
      "[torch.FloatTensor of size 1]\n",
      "\n"
     ]
    }
   ],
   "source": [
    "print(posterior_dist.stddev)"
   ]
  },
  {
   "cell_type": "code",
   "execution_count": 13,
   "metadata": {},
   "outputs": [
    {
     "name": "stdout",
     "output_type": "stream",
     "text": [
      "Variable containing:\n",
      " 0.5515\n",
      "[torch.FloatTensor of size 1]\n",
      "\n"
     ]
    }
   ],
   "source": [
    "print(posterior_dist.expectation(lambda x: torch.sin(x)))"
   ]
  },
  {
   "cell_type": "markdown",
   "metadata": {},
   "source": [
    "# Inference compilation\n",
    "\n",
    "Inference compilation is a technique where a deep neural network is used for parameterizing the proposal distribution in importance sampling (https://arxiv.org/abs/1610.09900). This neural network, which we call inference network, is automatically generated and trained with data sampled from the model.\n",
    "\n",
    "We can learn an inference network for our model."
   ]
  },
  {
   "cell_type": "code",
   "execution_count": 14,
   "metadata": {},
   "outputs": [
    {
     "name": "stdout",
     "output_type": "stream",
     "text": [
      "Creating new inference network...\n",
      "Polymorphing, new layers for address: 34/forward.marsaglia.x_Uniform\n",
      "Polymorphing, new layers for address: 44/forward.marsaglia.y_Uniform\n",
      "Train. time | Trace     | Init. loss | Max. loss  | Min. loss  | Curr. loss | T.since min | Traces/sec\n",
      "0d:00:01:07 | 10,048    | +2.978e+00 | +2.978e+00 | +1.247e+00 | \u001b[32m+1.566e+00\u001b[0m | 0d:00:00:42 | 112                                                                                                                                                                    \n"
     ]
    }
   ],
   "source": [
    "model.learn_inference_network(observation=[0, 0], early_stop_traces=10000)"
   ]
  },
  {
   "cell_type": "markdown",
   "metadata": {},
   "source": [
    "We now construct the posterior distribution using samples from inference compilation, using the trained inference network.\n",
    "\n",
    "A much smaller number of samples are enough because the inference network provides good proposals based on the given observations. We can see that the proposal distribution given by the inference network is doing a job much better than the prior, by plotting the posterior samples without the importance weights, for a selection of observations."
   ]
  },
  {
   "cell_type": "code",
   "execution_count": 15,
   "metadata": {},
   "outputs": [
    {
     "name": "stdout",
     "output_type": "stream",
     "text": [
      "0d:00:00:09 | ████████████████████ | 500 / 500 | 50 traces/s    \n"
     ]
    },
    {
     "data": {
      "image/png": "[encoded data removed]",
      "text/plain": [
       "<matplotlib.figure.Figure at 0x7f5770a5b8d0>"
      ]
     },
     "metadata": {},
     "output_type": "display_data"
    }
   ],
   "source": [
    "posterior_dist_unweighted = model.posterior_distribution(samples=500, use_inference_network=True, observation=[-1,-2]).unweighted()\n",
    "n, bins, patches = plt.hist([float(posterior_dist_unweighted.sample()) for i in range(1000)], normed=1, alpha=0.75)"
   ]
  },
  {
   "cell_type": "code",
   "execution_count": 16,
   "metadata": {},
   "outputs": [
    {
     "name": "stdout",
     "output_type": "stream",
     "text": [
      "0d:00:00:10 | ████████████████████ | 500 / 500 | 47 traces/s    \n"
     ]
    },
    {
     "data": {
      "image/png": "[encoded data removed]",
      "text/plain": [
       "<matplotlib.figure.Figure at 0x7f57707a0eb8>"
      ]
     },
     "metadata": {},
     "output_type": "display_data"
    }
   ],
   "source": [
    "posterior_dist_unweighted = model.posterior_distribution(samples=500, use_inference_network=True, observation=[2,3]).unweighted()\n",
    "n, bins, patches = plt.hist([float(posterior_dist_unweighted.sample()) for i in range(1000)], normed=1, alpha=0.75)"
   ]
  },
  {
   "cell_type": "markdown",
   "metadata": {},
   "source": [
    "Finally, we plot the posterior for the observations `[8, 9]` and print its mean and standard deviation."
   ]
  },
  {
   "cell_type": "code",
   "execution_count": 17,
   "metadata": {},
   "outputs": [
    {
     "name": "stdout",
     "output_type": "stream",
     "text": [
      "0d:00:00:20 | ████████████████████ | 1000 / 1000 | 48 traces/s  \n",
      "Mean: Variable containing:\n",
      " 7.3502\n",
      "[torch.FloatTensor of size 1]\n",
      "\n",
      "Standard deviation: Variable containing:\n",
      " 1.0009\n",
      "[torch.FloatTensor of size 1]\n",
      "\n"
     ]
    },
    {
     "data": {
      "image/png": "[encoded data removed]",
      "text/plain": [
       "<matplotlib.figure.Figure at 0x7f576bb3d2b0>"
      ]
     },
     "metadata": {},
     "output_type": "display_data"
    }
   ],
   "source": [
    "posterior_dist = model.posterior_distribution(samples=1000, use_inference_network=True, observation=[8,9])\n",
    "n, bins, patches = plt.hist([float(posterior_dist.sample()) for i in range(1000)], normed=1, alpha=0.75)\n",
    "\n",
    "x = np.linspace(min(posterior_dist.values_numpy),max(posterior_dist.values_numpy),400)\n",
    "plt.plot(x, np.vectorize(correct_posterior)(x))\n",
    "\n",
    "print('Mean:', posterior_dist.mean)\n",
    "print('Standard deviation:', posterior_dist.stddev)"
   ]
  },
  {
   "cell_type": "code",
   "execution_count": null,
   "metadata": {
    "collapsed": true
   },
   "outputs": [],
   "source": []
  }
 ],
 "metadata": {
  "kernelspec": {
   "display_name": "Python 3",
   "language": "python",
   "name": "python3"
  },
  "language_info": {
   "codemirror_mode": {
    "name": "ipython",
    "version": 3
   },
   "file_extension": ".py",
   "mimetype": "text/x-python",
   "name": "python",
   "nbconvert_exporter": "python",
   "pygments_lexer": "ipython3",
   "version": "3.6.3"
  }
 },
 "nbformat": 4,
 "nbformat_minor": 2
}
