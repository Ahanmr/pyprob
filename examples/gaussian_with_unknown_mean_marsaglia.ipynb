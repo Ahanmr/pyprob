{
 "cells": [
  {
   "cell_type": "code",
   "execution_count": 1,
   "metadata": {},
   "outputs": [],
   "source": [
    "import pyprob\n",
    "from pyprob import Model\n",
    "from pyprob.distributions import Normal, Uniform\n",
    "\n",
    "import torch\n",
    "import numpy as np\n",
    "import math\n",
    "import matplotlib.pyplot as plt\n",
    "%matplotlib inline"
   ]
  },
  {
   "cell_type": "markdown",
   "metadata": {},
   "source": [
    "# Define model\n",
    "\n",
    "First, we define the model as a probabilistic program inheriting from `pyprob.Model`. Models inherit from `torch.nn.Module` and can be potentially trained with gradient-based optimization (not covered in this example).\n",
    "\n",
    "The `forward` function can have any number and type of arguments as needed. \n",
    "\n",
    "**Important:** For running posterior inference inference compilation, it is expected that `forward` has an argument called `observation` with which the observations are given to the model."
   ]
  },
  {
   "cell_type": "code",
   "execution_count": 2,
   "metadata": {},
   "outputs": [],
   "source": [
    "# http://www.robots.ox.ac.uk/~fwood/assets/pdf/Wood-AISTATS-2014.pdf\n",
    "class GaussianWithUnknownMeanMarsaglia(Model):\n",
    "    def __init__(self, prior_mean=1, prior_stddev=math.sqrt(5), likelihood_stddev=math.sqrt(2)):\n",
    "        self.prior_mean = prior_mean\n",
    "        self.prior_stddev = prior_stddev\n",
    "        self.likelihood_stddev = likelihood_stddev\n",
    "        super().__init__('Gaussian with unknown mean')\n",
    "\n",
    "    def forward(self, observation=[]):\n",
    "        mu = pyprob.sample(Normal(self.prior_mean, self.prior_stddev))\n",
    "        likelihood = Normal(mu, self.likelihood_stddev)\n",
    "        for o in observation:\n",
    "            pyprob.observe(likelihood, o)\n",
    "        return mu\n",
    "\n",
    "model = GaussianWithUnknownMeanMarsaglia()\n",
    "\n",
    "def correct_posterior(x):\n",
    "    p = Normal(7.25, math.sqrt(1/1.2))\n",
    "    return math.exp(p.log_prob(x))"
   ]
  },
  {
   "cell_type": "markdown",
   "metadata": {},
   "source": [
    "# Test the prior\n",
    "\n",
    "We inspect the prior distribution to see if it behaves in the way we intended. First we construct an `Empirical` distribution with forward samples from the model. \n",
    "\n",
    "Note: Any arguments, besides `samples`, given to `prior_distribution` will be forwarded to the model's `forward` function."
   ]
  },
  {
   "cell_type": "code",
   "execution_count": 3,
   "metadata": {},
   "outputs": [
    {
     "name": "stdout",
     "output_type": "stream",
     "text": [
      "0d:00:00:03 | #################### | 1000 / 1000 | 316.14 traces/s\n"
     ]
    }
   ],
   "source": [
    "prior_dist = model.prior_distribution(traces=1000)"
   ]
  },
  {
   "cell_type": "markdown",
   "metadata": {},
   "source": [
    "We can plot a historgram of these samples that are held by the `Empirical` distribution."
   ]
  },
  {
   "cell_type": "code",
   "execution_count": 4,
   "metadata": {},
   "outputs": [
    {
     "name": "stderr",
     "output_type": "stream",
     "text": [
      "/Library/Frameworks/Python.framework/Versions/3.6/lib/python3.6/site-packages/matplotlib/axes/_axes.py:6462: UserWarning: The 'normed' kwarg is deprecated, and has been replaced by the 'density' kwarg.\n",
      "  warnings.warn(\"The 'normed' kwarg is deprecated, and has been \"\n"
     ]
    },
    {
     "data": {
      "image/png": "[encoded data removed]",
      "text/plain": [
       "<Figure size 432x288 with 1 Axes>"
      ]
     },
     "metadata": {},
     "output_type": "display_data"
    }
   ],
   "source": [
    "n, bins, patches = plt.hist(prior_dist.values_numpy, normed=1, alpha=0.75)"
   ]
  },
  {
   "cell_type": "markdown",
   "metadata": {},
   "source": [
    "We can also `sample` from the `Empirical` distribution."
   ]
  },
  {
   "cell_type": "code",
   "execution_count": 5,
   "metadata": {},
   "outputs": [
    {
     "name": "stdout",
     "output_type": "stream",
     "text": [
      "Variable containing:\n",
      " 0.7250\n",
      "[torch.FloatTensor of size 1]\n",
      "\n"
     ]
    }
   ],
   "source": [
    "print(prior_dist.sample())"
   ]
  },
  {
   "cell_type": "markdown",
   "metadata": {},
   "source": [
    "# Posterior inference with lmh\n",
    "\n",
    "For a given set of observations, we can do inference with lightweight metropolis hastings"
   ]
  },
  {
   "cell_type": "code",
   "execution_count": null,
   "metadata": {},
   "outputs": [
    {
     "name": "stdout",
     "output_type": "stream",
     "text": [
      "0d:00:03:08 | ###########--------- | 1138 / 2000 | 6.05 traces/ss\r"
     ]
    }
   ],
   "source": [
    "posterior_samples = model.lmh_posterior(mixin=1000, num_samples=1000, observation=[8,9])"
   ]
  },
  {
   "cell_type": "code",
   "execution_count": 6,
   "metadata": {},
   "outputs": [
    {
     "name": "stdout",
     "output_type": "stream",
     "text": [
      "mean of empirical  3.522746425807476\n"
     ]
    },
    {
     "data": {
      "text/plain": [
       "[<matplotlib.lines.Line2D at 0x111d3b0b8>]"
      ]
     },
     "execution_count": 6,
     "metadata": {},
     "output_type": "execute_result"
    },
    {
     "data": {
      "image/png": "[encoded data removed]",
      "text/plain": [
       "<Figure size 432x288 with 1 Axes>"
      ]
     },
     "metadata": {},
     "output_type": "display_data"
    }
   ],
   "source": [
    "posterior_mu = []\n",
    "x0 = []\n",
    "y0 = []\n",
    "for sample in posterior_samples:\n",
    "    posterior_mu.append(sample.result.data[0])\n",
    "    for marginal in sample.samples:\n",
    "        if marginal.address == '34/forward.marsaglia.x2':\n",
    "            x0.append(marginal.value.data[0])\n",
    "        if marginal.address == '44/forward.marsaglia.y2':\n",
    "            y0.append(marginal.value.data[0])\n",
    "        #print(marginal.address)\n",
    "\n",
    "#posterior_dist = model.posterior_distribution(traces=1000, use_inference_network=True, observation=[8,9])\n",
    "n, bins, patches = plt.hist(posterior_mu, bins=100, density=1, alpha=0.75)\n",
    "\n",
    "print(\"mean of empirical \", np.mean(posterior_mu))\n",
    "x = np.linspace(min(posterior_mu),max(posterior_mu),400)\n",
    "plt.plot(x, np.vectorize(correct_posterior)(x))\n"
   ]
  },
  {
   "cell_type": "code",
   "execution_count": 43,
   "metadata": {},
   "outputs": [
    {
     "name": "stderr",
     "output_type": "stream",
     "text": [
      "/Library/Frameworks/Python.framework/Versions/3.6/lib/python3.6/site-packages/matplotlib/axes/_axes.py:6462: UserWarning: The 'normed' kwarg is deprecated, and has been replaced by the 'density' kwarg.\n",
      "  warnings.warn(\"The 'normed' kwarg is deprecated, and has been \"\n"
     ]
    },
    {
     "name": "stdout",
     "output_type": "stream",
     "text": [
      "532.3836387606976\n",
      "mu is  1.0125442743301392\n",
      "value at address  34/forward.marsaglia.x0 :  0.10119354724884033\n",
      "value at address  44/forward.marsaglia.y0 :  0.9940959215164185\n",
      "7.448995004343548\n"
     ]
    },
    {
     "data": {
      "image/png": "[encoded data removed]",
      "text/plain": [
       "<Figure size 432x288 with 1 Axes>"
      ]
     },
     "metadata": {},
     "output_type": "display_data"
    }
   ],
   "source": [
    "n, bins, patches = plt.hist(x0, normed=1, alpha=0.5)\n",
    "n, bins, patches = plt.hist(y0, normed=1, alpha=0.5)\n",
    "\n",
    "\n",
    "mean=1 \n",
    "stddev=math.sqrt(5)\n",
    "print(-2 * math.log(s) / s)\n",
    "for i in posterior_samples:\n",
    "    print(\"mu is \", i.result.data[0])\n",
    "    for wtf in i.samples:\n",
    "        print(\"value at address \", wtf.address, \": \", wtf.value.data[0])\n",
    "    break\n",
    "x = 0.12499558925\n",
    "y = 0\n",
    "s = x*x + y*y\n",
    "mu = mean + stddev * (x * math.sqrt(-2 * math.log(s) / s))\n",
    "print(mu)"
   ]
  },
  {
   "cell_type": "markdown",
   "metadata": {},
   "source": [
    "# Posterior inference with importance sampling\n",
    "\n",
    "For a given set of observations, we can get samples from the posterior distribution."
   ]
  },
  {
   "cell_type": "code",
   "execution_count": 6,
   "metadata": {},
   "outputs": [
    {
     "name": "stdout",
     "output_type": "stream",
     "text": [
      "0d:00:00:01 | #################### | 1000 / 1000 | 550 traces/s \n"
     ]
    }
   ],
   "source": [
    "posterior_dist = model.posterior_distribution(traces=1000, observation=[8,9])"
   ]
  },
  {
   "cell_type": "markdown",
   "metadata": {},
   "source": [
    "Regular importance sampling uses proposals from the prior distribution. We can see this by plotting the histogram of the posterior distribution without using the importance weights. As expected, this is the same with the prior distribution."
   ]
  },
  {
   "cell_type": "code",
   "execution_count": 7,
   "metadata": {},
   "outputs": [
    {
     "data": {
      "image/png": "[encoded data removed]",
      "text/plain": [
       "<matplotlib.figure.Figure at 0x7fd8c9d5d630>"
      ]
     },
     "metadata": {},
     "output_type": "display_data"
    }
   ],
   "source": [
    "posterior_dist_unweighted = posterior_dist.unweighted()\n",
    "n, bins, patches = plt.hist([float(posterior_dist_unweighted.sample()) for i in range(1000)], normed=1, alpha=0.75)"
   ]
  },
  {
   "cell_type": "markdown",
   "metadata": {},
   "source": [
    "When we do use the weights, we end up with the correct posterior distribution. The following shows the sampled posterior with the correct posterior (orange curve)."
   ]
  },
  {
   "cell_type": "code",
   "execution_count": 8,
   "metadata": {},
   "outputs": [
    {
     "data": {
      "text/plain": [
       "[<matplotlib.lines.Line2D at 0x7fd8c655d160>]"
      ]
     },
     "execution_count": 8,
     "metadata": {},
     "output_type": "execute_result"
    },
    {
     "data": {
      "image/png": "[encoded data removed]",
      "text/plain": [
       "<matplotlib.figure.Figure at 0x7fd8c68772b0>"
      ]
     },
     "metadata": {},
     "output_type": "display_data"
    }
   ],
   "source": [
    "n, bins, patches = plt.hist([float(posterior_dist.sample()) for i in range(1000)], normed=1, alpha=0.75)\n",
    "x = np.linspace(min(posterior_dist.values_numpy),max(posterior_dist.values_numpy),400)\n",
    "plt.plot(x, np.vectorize(correct_posterior)(x))"
   ]
  },
  {
   "cell_type": "markdown",
   "metadata": {},
   "source": [
    "In practice, it is advised to use methods of the `Empirical` posterior distribution instead of dealing with the weights directly, which ensures that the weights are used in the correct way.\n",
    "\n",
    "For instance, we can get samples from the correct posterior, compute its mean and standard deviation, and evaluate expectations of a function under the distribution."
   ]
  },
  {
   "cell_type": "code",
   "execution_count": 9,
   "metadata": {},
   "outputs": [
    {
     "name": "stdout",
     "output_type": "stream",
     "text": [
      "Variable containing:\n",
      " 8.9582\n",
      "[torch.FloatTensor of size 1]\n",
      "\n"
     ]
    }
   ],
   "source": [
    "print(posterior_dist.sample())"
   ]
  },
  {
   "cell_type": "code",
   "execution_count": 10,
   "metadata": {},
   "outputs": [
    {
     "name": "stdout",
     "output_type": "stream",
     "text": [
      "Variable containing:\n",
      " 7.6385\n",
      "[torch.FloatTensor of size 1]\n",
      "\n"
     ]
    }
   ],
   "source": [
    "print(posterior_dist.mean)"
   ]
  },
  {
   "cell_type": "code",
   "execution_count": 11,
   "metadata": {},
   "outputs": [
    {
     "name": "stdout",
     "output_type": "stream",
     "text": [
      "Variable containing:\n",
      " 1.0316\n",
      "[torch.FloatTensor of size 1]\n",
      "\n"
     ]
    }
   ],
   "source": [
    "print(posterior_dist.stddev)"
   ]
  },
  {
   "cell_type": "code",
   "execution_count": 12,
   "metadata": {},
   "outputs": [
    {
     "name": "stdout",
     "output_type": "stream",
     "text": [
      "Variable containing:\n",
      " 0.5560\n",
      "[torch.FloatTensor of size 1]\n",
      "\n"
     ]
    }
   ],
   "source": [
    "print(posterior_dist.expectation(lambda x: torch.sin(x)))"
   ]
  },
  {
   "cell_type": "markdown",
   "metadata": {},
   "source": [
    "# Inference compilation\n",
    "\n",
    "Inference compilation is a technique where a deep neural network is used for parameterizing the proposal distribution in importance sampling (https://arxiv.org/abs/1610.09900). This neural network, which we call inference network, is automatically generated and trained with data sampled from the model.\n",
    "\n",
    "We can learn an inference network for our model."
   ]
  },
  {
   "cell_type": "code",
   "execution_count": 13,
   "metadata": {},
   "outputs": [
    {
     "name": "stdout",
     "output_type": "stream",
     "text": [
      "Creating new inference network...\n",
      "Polymorphing, new layers for address: 34/forward.marsaglia.x_Uniform\n",
      "Polymorphing, new layers for address: 44/forward.marsaglia.y_Uniform\n",
      "Train. time | Trace     | Init. loss | Max. loss  | Min. loss  | Curr. loss | T.since min | Traces/sec\n",
      "0d:00:00:50 | 10,048    | +2.632e+00 | +2.632e+00 | +1.494e+00 | \u001b[31m+1.885e+00\u001b[0m | 0d:00:00:33 | 207                              \n"
     ]
    }
   ],
   "source": [
    "model.learn_inference_network(observation=[0, 0], early_stop_traces=10000)"
   ]
  },
  {
   "cell_type": "markdown",
   "metadata": {},
   "source": [
    "We now construct the posterior distribution using samples from inference compilation, using the trained inference network.\n",
    "\n",
    "A much smaller number of samples are enough because the inference network provides good proposals based on the given observations. We can see that the proposal distribution given by the inference network is doing a job much better than the prior, by plotting the posterior samples without the importance weights, for a selection of observations."
   ]
  },
  {
   "cell_type": "code",
   "execution_count": 14,
   "metadata": {},
   "outputs": [
    {
     "name": "stdout",
     "output_type": "stream",
     "text": [
      "0d:00:00:07 | #################### | 500 / 500 | 70 traces/s    \n"
     ]
    },
    {
     "data": {
      "image/png": "[encoded data removed]",
      "text/plain": [
       "<matplotlib.figure.Figure at 0x7fd8c67f5588>"
      ]
     },
     "metadata": {},
     "output_type": "display_data"
    }
   ],
   "source": [
    "posterior_dist_unweighted = model.posterior_distribution(traces=500, use_inference_network=True, observation=[-1,-2]).unweighted()\n",
    "n, bins, patches = plt.hist([float(posterior_dist_unweighted.sample()) for i in range(1000)], normed=1, alpha=0.75)"
   ]
  },
  {
   "cell_type": "code",
   "execution_count": 15,
   "metadata": {},
   "outputs": [
    {
     "name": "stdout",
     "output_type": "stream",
     "text": [
      "0d:00:00:07 | #################### | 500 / 500 | 70 traces/s    \n"
     ]
    },
    {
     "data": {
      "image/png": "[encoded data removed]",
      "text/plain": [
       "<matplotlib.figure.Figure at 0x7fd903dabda0>"
      ]
     },
     "metadata": {},
     "output_type": "display_data"
    }
   ],
   "source": [
    "posterior_dist_unweighted = model.posterior_distribution(traces=500, use_inference_network=True, observation=[2,3]).unweighted()\n",
    "n, bins, patches = plt.hist([float(posterior_dist_unweighted.sample()) for i in range(1000)], normed=1, alpha=0.75)"
   ]
  },
  {
   "cell_type": "markdown",
   "metadata": {},
   "source": [
    "Finally, we plot the posterior for the observations `[8, 9]` and print its mean and standard deviation."
   ]
  },
  {
   "cell_type": "code",
   "execution_count": 18,
   "metadata": {},
   "outputs": [
    {
     "name": "stdout",
     "output_type": "stream",
     "text": [
      "0d:00:00:13 | #################### | 1000 / 1000 | 72 traces/s  \n",
      "Mean: Variable containing:\n",
      " 7.3810\n",
      "[torch.FloatTensor of size 1]\n",
      "\n",
      "Standard deviation: Variable containing:\n",
      " 0.8928\n",
      "[torch.FloatTensor of size 1]\n",
      "\n"
     ]
    },
    {
     "data": {
      "image/png": "[encoded data removed]",
      "text/plain": [
       "<matplotlib.figure.Figure at 0x7fd8a76cc588>"
      ]
     },
     "metadata": {},
     "output_type": "display_data"
    }
   ],
   "source": [
    "posterior_dist = model.posterior_distribution(traces=1000, use_inference_network=True, observation=[8,9])\n",
    "n, bins, patches = plt.hist([float(posterior_dist.sample()) for i in range(1000)], normed=1, alpha=0.75)\n",
    "\n",
    "x = np.linspace(min(posterior_dist.values_numpy),max(posterior_dist.values_numpy),400)\n",
    "plt.plot(x, np.vectorize(correct_posterior)(x))\n",
    "\n",
    "print('Mean:', posterior_dist.mean)\n",
    "print('Standard deviation:', posterior_dist.stddev)"
   ]
  },
  {
   "cell_type": "code",
   "execution_count": null,
   "metadata": {
    "collapsed": true
   },
   "outputs": [],
   "source": []
  }
 ],
 "metadata": {
  "kernelspec": {
   "display_name": "Python 3",
   "language": "python",
   "name": "python3"
  },
  "language_info": {
   "codemirror_mode": {
    "name": "ipython",
    "version": 3
   },
   "file_extension": ".py",
   "mimetype": "text/x-python",
   "name": "python",
   "nbconvert_exporter": "python",
   "pygments_lexer": "ipython3",
   "version": "3.6.3"
  }
 },
 "nbformat": 4,
 "nbformat_minor": 2
}
