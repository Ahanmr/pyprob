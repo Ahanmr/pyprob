{
 "cells": [
  {
   "cell_type": "code",
   "execution_count": 1,
   "metadata": {
    "collapsed": true
   },
   "outputs": [],
   "source": [
    "import pyprob\n",
    "from pyprob import Model, util\n",
    "from pyprob.distributions import Categorical, Normal\n",
    "\n",
    "import torch\n",
    "import torch.nn.functional as F\n",
    "import numpy as np\n",
    "import math\n",
    "import matplotlib.pyplot as plt\n",
    "%matplotlib inline"
   ]
  },
  {
   "cell_type": "markdown",
   "metadata": {},
   "source": [
    "# Define model\n",
    "\n",
    "First, we define the model as a probabilistic program inheriting from `pyprob.Model`. Models inherit from `torch.nn.Module` and can be potentially trained with gradient-based optimization (not covered in this example).\n",
    "\n",
    "In similar spirit to the `torch.nn.Module`, we implement a class constructor called `__init__` and a method called `forward` that represents a single execution of the model's stochastic generative process. In other words, the `forward` method implements a joint distribution over latent and observed variables, which can be used in various ways. During forward sampling from the model, `forward` represents the model prior; during inference, `forward` is used by one of the available probabilistic inference engines to construct a posterior distribution given some observed variables. \n",
    "\n",
    "It is expected that `forward` has an argument called `observation` with which any observed variables are supplied. In addition to this, the `forward` method can have any number and type of other arguments as needed."
   ]
  },
  {
   "cell_type": "code",
   "execution_count": 3,
   "metadata": {
    "collapsed": true
   },
   "outputs": [],
   "source": [
    "# Probabilistic program example adapted from\n",
    "# http://www.robots.ox.ac.uk/~fwood/assets/pdf/Wood-AISTATS-2014.pdf\n",
    "class HiddenMarkovModel(Model):\n",
    "    def __init__(self, init_dist, trans_dists, obs_dists):\n",
    "        self.init_dist = init_dist\n",
    "        self.trans_dists = trans_dists\n",
    "        self.obs_dists = obs_dists\n",
    "        super().__init__('Hidden Markov model')\n",
    "\n",
    "    def forward(self, observation=[]):\n",
    "        states = [pyprob.sample(init_dist)]\n",
    "        for o in observation:\n",
    "            state = pyprob.sample(self.trans_dists[int(states[-1])])\n",
    "            pyprob.observe(self.obs_dists[int(state)], o)\n",
    "            states.append(state)\n",
    "        return torch.stack([util.one_hot(3, int(s)) for s in states])\n",
    "\n",
    "init_dist = Categorical([1, 1, 1])\n",
    "\n",
    "trans_dists = [Categorical([0.1, 0.5, 0.4]),\n",
    "               Categorical([0.2, 0.2, 0.6]),\n",
    "               Categorical([0.15, 0.15, 0.7])]\n",
    "\n",
    "obs_dists = [Normal(-1, 1),\n",
    "             Normal(1, 1),\n",
    "             Normal(0, 1)]\n",
    "\n",
    "model = HiddenMarkovModel(init_dist, trans_dists, obs_dists)"
   ]
  },
  {
   "cell_type": "markdown",
   "metadata": {},
   "source": [
    "# The prior\n",
    "\n",
    "We inspect the prior distribution to see if it behaves in the way we intended. First we construct an `Empirical` distribution with forward samples from the model. \n",
    "\n",
    "Note: Any arguments, besides `num_traces`, given to `prior_distribution` will be forwarded to the model's `forward` function."
   ]
  },
  {
   "cell_type": "code",
   "execution_count": 4,
   "metadata": {},
   "outputs": [
    {
     "name": "stdout",
     "output_type": "stream",
     "text": [
      "Time spent  | Time remain.| Progress             | Trace     | Traces/sec\n",
      "0d:00:00:00 | 0d:00:00:00 | #################### | 1000/1000 | 2,497.89       \n"
     ]
    }
   ],
   "source": [
    "observation = [0.9, 0.8, 0.7, 0.0, -0.025, -5.0, -2.0, -0.1, 0.0, 0.13, 0.45, 6, 0.2, 0.3, -1, -1]\n",
    "posterior_mean_correct = util.to_variable([[0.3775, 0.3092, 0.3133],\n",
    "                                           [0.0416, 0.4045, 0.5539],\n",
    "                                           [0.0541, 0.2552, 0.6907],\n",
    "                                           [0.0455, 0.2301, 0.7244],\n",
    "                                           [0.1062, 0.1217, 0.7721],\n",
    "                                           [0.0714, 0.1732, 0.7554],\n",
    "                                           [0.9300, 0.0001, 0.0699],\n",
    "                                           [0.4577, 0.0452, 0.4971],\n",
    "                                           [0.0926, 0.2169, 0.6905],\n",
    "                                           [0.1014, 0.1359, 0.7626],\n",
    "                                           [0.0985, 0.1575, 0.7440],\n",
    "                                           [0.1781, 0.2198, 0.6022],\n",
    "                                           [0.0000, 0.9848, 0.0152],\n",
    "                                           [0.1130, 0.1674, 0.7195],\n",
    "                                           [0.0557, 0.1848, 0.7595],\n",
    "                                           [0.2017, 0.0472, 0.7511],\n",
    "                                           [0.2545, 0.0611, 0.6844]])\n",
    "        \n",
    "prior_dist = model.prior_distribution(num_traces=1000, observation=observation)"
   ]
  },
  {
   "cell_type": "markdown",
   "metadata": {},
   "source": [
    "We can see the mean of these samples that are held by the `Empirical` distribution."
   ]
  },
  {
   "cell_type": "code",
   "execution_count": 5,
   "metadata": {},
   "outputs": [
    {
     "data": {
      "text/plain": [
       "tensor([[ 0.3510,  0.3270,  0.3220],\n",
       "        [ 0.1240,  0.3000,  0.5760],\n",
       "        [ 0.1580,  0.2060,  0.6360],\n",
       "        [ 0.1670,  0.2080,  0.6250],\n",
       "        [ 0.1430,  0.2330,  0.6240],\n",
       "        [ 0.1420,  0.2220,  0.6360],\n",
       "        [ 0.1780,  0.2170,  0.6050],\n",
       "        [ 0.1440,  0.2230,  0.6330],\n",
       "        [ 0.1440,  0.2230,  0.6330],\n",
       "        [ 0.1370,  0.2220,  0.6410],\n",
       "        [ 0.1330,  0.2100,  0.6570],\n",
       "        [ 0.1570,  0.1890,  0.6540],\n",
       "        [ 0.1300,  0.2340,  0.6360],\n",
       "        [ 0.1580,  0.1950,  0.6470],\n",
       "        [ 0.1410,  0.2210,  0.6380],\n",
       "        [ 0.1400,  0.2070,  0.6530],\n",
       "        [ 0.1240,  0.2190,  0.6570]])"
      ]
     },
     "execution_count": 5,
     "metadata": {},
     "output_type": "execute_result"
    }
   ],
   "source": [
    "prior_dist.mean"
   ]
  },
  {
   "cell_type": "markdown",
   "metadata": {},
   "source": [
    "We can also `sample` from the `Empirical` distribution."
   ]
  },
  {
   "cell_type": "code",
   "execution_count": 6,
   "metadata": {},
   "outputs": [
    {
     "name": "stdout",
     "output_type": "stream",
     "text": [
      "tensor([[ 1.,  0.,  0.],\n",
      "        [ 0.,  1.,  0.],\n",
      "        [ 0.,  1.,  0.],\n",
      "        [ 0.,  0.,  1.],\n",
      "        [ 0.,  0.,  1.],\n",
      "        [ 0.,  0.,  1.],\n",
      "        [ 0.,  0.,  1.],\n",
      "        [ 1.,  0.,  0.],\n",
      "        [ 0.,  0.,  1.],\n",
      "        [ 0.,  0.,  1.],\n",
      "        [ 0.,  1.,  0.],\n",
      "        [ 0.,  1.,  0.],\n",
      "        [ 0.,  0.,  1.],\n",
      "        [ 0.,  0.,  1.],\n",
      "        [ 1.,  0.,  0.],\n",
      "        [ 0.,  0.,  1.],\n",
      "        [ 0.,  0.,  1.]])\n"
     ]
    }
   ],
   "source": [
    "print(prior_dist.sample())"
   ]
  },
  {
   "cell_type": "markdown",
   "metadata": {},
   "source": [
    "# Posterior inference with importance sampling\n",
    "\n",
    "For a given set of observations, we can get samples from the posterior distribution."
   ]
  },
  {
   "cell_type": "code",
   "execution_count": 7,
   "metadata": {},
   "outputs": [
    {
     "name": "stdout",
     "output_type": "stream",
     "text": [
      "Time spent  | Time remain.| Progress             | Trace   | Traces/sec\n",
      "0d:00:00:00 | 0d:00:00:00 | #################### | 400/400 | 408.54       \n"
     ]
    }
   ],
   "source": [
    "posterior_dist = model.posterior_distribution(num_traces=400, observation=observation)"
   ]
  },
  {
   "cell_type": "code",
   "execution_count": 8,
   "metadata": {},
   "outputs": [
    {
     "data": {
      "text/plain": [
       "tensor([[ 5.0996e-01,  2.0562e-01,  2.8442e-01],\n",
       "        [ 6.3118e-03,  5.9756e-01,  3.9613e-01],\n",
       "        [ 7.3216e-03,  7.1979e-01,  2.7289e-01],\n",
       "        [ 5.5115e-03,  3.5917e-01,  6.3532e-01],\n",
       "        [ 1.2430e-02,  5.5659e-01,  4.3098e-01],\n",
       "        [ 4.3989e-01,  7.4124e-03,  5.5270e-01],\n",
       "        [ 9.0971e-01,  5.6263e-05,  9.0238e-02],\n",
       "        [ 3.9982e-01,  7.5839e-02,  5.2434e-01],\n",
       "        [ 2.6058e-01,  1.3315e-01,  6.0627e-01],\n",
       "        [ 3.7526e-02,  1.9235e-02,  9.4324e-01],\n",
       "        [ 2.7658e-02,  2.2898e-02,  9.4945e-01],\n",
       "        [ 1.0471e-01,  4.9969e-01,  3.9560e-01],\n",
       "        [ 5.1085e-06,  9.8204e-01,  1.7954e-02],\n",
       "        [ 7.6033e-03,  3.3286e-02,  9.5911e-01],\n",
       "        [ 4.5215e-01,  9.3472e-03,  5.3850e-01],\n",
       "        [ 3.0296e-02,  3.6540e-01,  6.0430e-01],\n",
       "        [ 8.0138e-02,  1.1195e-02,  9.0867e-01]])"
      ]
     },
     "execution_count": 8,
     "metadata": {},
     "output_type": "execute_result"
    }
   ],
   "source": [
    "posterior_dist.mean"
   ]
  },
  {
   "cell_type": "code",
   "execution_count": 9,
   "metadata": {},
   "outputs": [
    {
     "name": "stdout",
     "output_type": "stream",
     "text": [
      "4.827559947967529\n"
     ]
    }
   ],
   "source": [
    "l2_distance = float(F.pairwise_distance(posterior_dist.mean, posterior_mean_correct).sum())\n",
    "print(l2_distance)"
   ]
  },
  {
   "cell_type": "code",
   "execution_count": 11,
   "metadata": {},
   "outputs": [
    {
     "name": "stdout",
     "output_type": "stream",
     "text": [
      "Time spent  | Time remain.| Progress             | Trace | Traces/sec\n",
      "0d:00:00:00 | 0d:00:00:00 | #################### | 1/1 | 970.45       \n",
      "Time spent  | Time remain.| Progress             | Trace   | Traces/sec\n",
      "0d:00:00:00 | 0d:00:00:00 | #################### | 101/101 | 412.25       \n",
      "Time spent  | Time remain.| Progress             | Trace   | Traces/sec\n",
      "0d:00:00:00 | 0d:00:00:00 | #################### | 201/201 | 452.80       \n",
      "Time spent  | Time remain.| Progress             | Trace   | Traces/sec\n",
      "0d:00:00:00 | 0d:00:00:00 | #################### | 301/301 | 418.28       \n",
      "Time spent  | Time remain.| Progress             | Trace   | Traces/sec\n",
      "0d:00:00:00 | 0d:00:00:00 | #################### | 401/401 | 435.41       \n",
      "Time spent  | Time remain.| Progress             | Trace   | Traces/sec\n",
      "0d:00:00:01 | 0d:00:00:00 | #################### | 501/501 | 389.62       \n",
      "Time spent  | Time remain.| Progress             | Trace   | Traces/sec\n",
      "0d:00:00:01 | 0d:00:00:00 | #################### | 601/601 | 425.17       \n",
      "Time spent  | Time remain.| Progress             | Trace   | Traces/sec\n",
      "0d:00:00:01 | 0d:00:00:00 | #################### | 701/701 | 418.33       \n",
      "Time spent  | Time remain.| Progress             | Trace   | Traces/sec\n",
      "0d:00:00:01 | 0d:00:00:00 | #################### | 801/801 | 424.77       \n",
      "Time spent  | Time remain.| Progress             | Trace   | Traces/sec\n",
      "0d:00:00:02 | 0d:00:00:00 | #################### | 901/901 | 420.58       \n"
     ]
    },
    {
     "data": {
      "image/png": "[encoded data removed]",
      "text/plain": [
       "<Figure size 432x288 with 1 Axes>"
      ]
     },
     "metadata": {},
     "output_type": "display_data"
    }
   ],
   "source": [
    "samples = []\n",
    "l2_distances = []\n",
    "for s in range(1, 1000, 100):\n",
    "    posterior_dist = model.posterior_distribution(num_traces=s, observation=observation)\n",
    "    l2_distance = float(F.pairwise_distance(posterior_dist.mean, posterior_mean_correct).sum())\n",
    "    samples.append(s)\n",
    "    l2_distances.append(l2_distance)\n",
    "    \n",
    "plt.plot(samples, l2_distances)\n",
    "plt.show()"
   ]
  },
  {
   "cell_type": "code",
   "execution_count": null,
   "metadata": {
    "collapsed": true
   },
   "outputs": [],
   "source": []
  }
 ],
 "metadata": {
  "kernelspec": {
   "display_name": "Python 3",
   "language": "python",
   "name": "python3"
  },
  "language_info": {
   "codemirror_mode": {
    "name": "ipython",
    "version": 3
   },
   "file_extension": ".py",
   "mimetype": "text/x-python",
   "name": "python",
   "nbconvert_exporter": "python",
   "pygments_lexer": "ipython3",
   "version": "3.6.5"
  }
 },
 "nbformat": 4,
 "nbformat_minor": 2
}
